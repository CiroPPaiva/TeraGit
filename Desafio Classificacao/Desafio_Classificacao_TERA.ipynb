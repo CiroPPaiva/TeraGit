{
  "nbformat": 4,
  "nbformat_minor": 0,
  "metadata": {
    "colab": {
      "name": "Desafio Classificacao - TERA.ipynb",
      "provenance": [],
      "collapsed_sections": []
    },
    "kernelspec": {
      "name": "python3",
      "display_name": "Python 3"
    },
    "language_info": {
      "name": "python"
    }
  },
  "cells": [
    {
      "cell_type": "markdown",
      "source": [
        "# Desafio Classificacao TERA: Detecção de Fraude"
      ],
      "metadata": {
        "id": "3TrGemFXqXvX"
      }
    },
    {
      "cell_type": "markdown",
      "source": [
        "## Objetivo: Propor uma solução para detecção e análise de fraudes que possam reduzir os riscos da empresa e garantir margens saudáveis."
      ],
      "metadata": {
        "id": "m-ajsZwNqgaH"
      }
    },
    {
      "cell_type": "markdown",
      "source": [
        "## Preparação do ambiente"
      ],
      "metadata": {
        "id": "p36DwrP7tMRT"
      }
    },
    {
      "cell_type": "markdown",
      "source": [
        "Nesta seção vamos importar os pacotes que são necessários para a execução deste notebook. Estamos importando tanto pacotes que irão realizar o treinamento do modelo de Machine Learning na CPU (Sklearn) quanto o pacote que irá treinar os modelos em GPU (Rapids).\n",
        "\n",
        "Importante: Caso você esteja executando através do Colaboratory do Google utilize essa referência para a preparação do ambiente: https://colab.research.google.com/github/ritchieng/deep-learning-wizard/blob/master/docs/machine_learning/gpu/rapids_cudf.ipynb. Este é um notebook com o passo a passo para a instalação das bibliotecas necessárias instalação das bibliotecas do Rapids."
      ],
      "metadata": {
        "id": "vNnYRvJBtZfQ"
      }
    },
    {
      "cell_type": "markdown",
      "source": [
        "# Importando Bibliotecas úteis"
      ],
      "metadata": {
        "id": "ghcU5ksbtkjK"
      }
    },
    {
      "cell_type": "code",
      "execution_count": null,
      "metadata": {
        "id": "y-oW8NtYiz6Q"
      },
      "outputs": [],
      "source": [
        "from google.colab import drive #Para importar o dataset do drive\n",
        "\n",
        "import warnings\n",
        "warnings.filterwarnings('ignore')\n",
        "\n",
        "# Bibliotecas para tratamento de dados\n",
        "import pandas as pd\n",
        "import numpy as np\n",
        "\n",
        "# Bibliotecas para visualização\n",
        "import matplotlib.pyplot as plt\n",
        "import seaborn as sns\n",
        "\n",
        "# Bibliotecas para treinamento e cálculo de métricas\n",
        "from sklearn.preprocessing import Normalizer, LabelEncoder # Normalização e Encoding de variáveis\n",
        "from sklearn.model_selection import train_test_split #Train_Test_Split\n",
        "from sklearn.ensemble import RandomForestClassifier #Random Forest\n",
        "from sklearn.metrics import accuracy_score # Calcular Acuracia\n",
        "from sklearn.metrics import precision_score #Precisao\n",
        "from sklearn.metrics import recall_score # recall\n",
        "from sklearn.metrics import f1_score #f1 score\n",
        "from sklearn.metrics import confusion_matrix # Matriz Confusao\n",
        "from sklearn.metrics import ConfusionMatrixDisplay #Display da Matriz de Confusao\n",
        "from sklearn.linear_model import LogisticRegression # Regressao Logistica\n",
        "\n",
        "#XGBoost\n",
        "from xgboost import XGBClassifier"
      ]
    },
    {
      "cell_type": "code",
      "source": [
        "# Evita que o pandas apresente valores em notação científica\n",
        "pd.set_option('display.float_format', lambda x: '%.5f' % x)"
      ],
      "metadata": {
        "id": "aK7kaiDZALeY"
      },
      "execution_count": null,
      "outputs": []
    },
    {
      "cell_type": "markdown",
      "source": [
        "# Importando Dataset"
      ],
      "metadata": {
        "id": "wtLboaWUxTTj"
      }
    },
    {
      "cell_type": "code",
      "source": [
        "drive.mount('/content/gdrive')"
      ],
      "metadata": {
        "colab": {
          "base_uri": "https://localhost:8080/"
        },
        "id": "-ZRAK25yoKN-",
        "outputId": "48203b42-b34f-47ed-9034-48b5cde4823c"
      },
      "execution_count": null,
      "outputs": [
        {
          "output_type": "stream",
          "name": "stdout",
          "text": [
            "Drive already mounted at /content/gdrive; to attempt to forcibly remount, call drive.mount(\"/content/gdrive\", force_remount=True).\n"
          ]
        }
      ]
    },
    {
      "cell_type": "code",
      "source": [
        "data = pd.read_csv('/content/gdrive/MyDrive/Desafio Classificacao TERA/fraud_detection_dataset (1).csv')"
      ],
      "metadata": {
        "id": "1QB5xUxPpDs4"
      },
      "execution_count": null,
      "outputs": []
    },
    {
      "cell_type": "code",
      "source": [
        "data.head()"
      ],
      "metadata": {
        "colab": {
          "base_uri": "https://localhost:8080/",
          "height": 206
        },
        "id": "ttumpEMBxnt-",
        "outputId": "a8cd2e0d-31cd-4e82-f87c-e439de7a2155"
      },
      "execution_count": null,
      "outputs": [
        {
          "output_type": "execute_result",
          "data": {
            "text/plain": [
              "   step      type      amount     nameOrig  oldbalanceOrg  newbalanceOrig  \\\n",
              "0     1   PAYMENT  9839.64000  C1231006815   170136.00000    160296.36000   \n",
              "1     1   PAYMENT  1864.28000  C1666544295    21249.00000     19384.72000   \n",
              "2     1  TRANSFER   181.00000  C1305486145      181.00000         0.00000   \n",
              "3     1  CASH_OUT   181.00000   C840083671      181.00000         0.00000   \n",
              "4     1   PAYMENT 11668.14000  C2048537720    41554.00000     29885.86000   \n",
              "\n",
              "      nameDest  oldbalanceDest  newbalanceDest  isFraud  isFlaggedFraud  \n",
              "0  M1979787155         0.00000         0.00000        0               0  \n",
              "1  M2044282225         0.00000         0.00000        0               0  \n",
              "2   C553264065         0.00000         0.00000        1               0  \n",
              "3    C38997010     21182.00000         0.00000        1               0  \n",
              "4  M1230701703         0.00000         0.00000        0               0  "
            ],
            "text/html": [
              "\n",
              "  <div id=\"df-80da7001-bfb9-469c-84cf-c9e18c5a4beb\">\n",
              "    <div class=\"colab-df-container\">\n",
              "      <div>\n",
              "<style scoped>\n",
              "    .dataframe tbody tr th:only-of-type {\n",
              "        vertical-align: middle;\n",
              "    }\n",
              "\n",
              "    .dataframe tbody tr th {\n",
              "        vertical-align: top;\n",
              "    }\n",
              "\n",
              "    .dataframe thead th {\n",
              "        text-align: right;\n",
              "    }\n",
              "</style>\n",
              "<table border=\"1\" class=\"dataframe\">\n",
              "  <thead>\n",
              "    <tr style=\"text-align: right;\">\n",
              "      <th></th>\n",
              "      <th>step</th>\n",
              "      <th>type</th>\n",
              "      <th>amount</th>\n",
              "      <th>nameOrig</th>\n",
              "      <th>oldbalanceOrg</th>\n",
              "      <th>newbalanceOrig</th>\n",
              "      <th>nameDest</th>\n",
              "      <th>oldbalanceDest</th>\n",
              "      <th>newbalanceDest</th>\n",
              "      <th>isFraud</th>\n",
              "      <th>isFlaggedFraud</th>\n",
              "    </tr>\n",
              "  </thead>\n",
              "  <tbody>\n",
              "    <tr>\n",
              "      <th>0</th>\n",
              "      <td>1</td>\n",
              "      <td>PAYMENT</td>\n",
              "      <td>9839.64000</td>\n",
              "      <td>C1231006815</td>\n",
              "      <td>170136.00000</td>\n",
              "      <td>160296.36000</td>\n",
              "      <td>M1979787155</td>\n",
              "      <td>0.00000</td>\n",
              "      <td>0.00000</td>\n",
              "      <td>0</td>\n",
              "      <td>0</td>\n",
              "    </tr>\n",
              "    <tr>\n",
              "      <th>1</th>\n",
              "      <td>1</td>\n",
              "      <td>PAYMENT</td>\n",
              "      <td>1864.28000</td>\n",
              "      <td>C1666544295</td>\n",
              "      <td>21249.00000</td>\n",
              "      <td>19384.72000</td>\n",
              "      <td>M2044282225</td>\n",
              "      <td>0.00000</td>\n",
              "      <td>0.00000</td>\n",
              "      <td>0</td>\n",
              "      <td>0</td>\n",
              "    </tr>\n",
              "    <tr>\n",
              "      <th>2</th>\n",
              "      <td>1</td>\n",
              "      <td>TRANSFER</td>\n",
              "      <td>181.00000</td>\n",
              "      <td>C1305486145</td>\n",
              "      <td>181.00000</td>\n",
              "      <td>0.00000</td>\n",
              "      <td>C553264065</td>\n",
              "      <td>0.00000</td>\n",
              "      <td>0.00000</td>\n",
              "      <td>1</td>\n",
              "      <td>0</td>\n",
              "    </tr>\n",
              "    <tr>\n",
              "      <th>3</th>\n",
              "      <td>1</td>\n",
              "      <td>CASH_OUT</td>\n",
              "      <td>181.00000</td>\n",
              "      <td>C840083671</td>\n",
              "      <td>181.00000</td>\n",
              "      <td>0.00000</td>\n",
              "      <td>C38997010</td>\n",
              "      <td>21182.00000</td>\n",
              "      <td>0.00000</td>\n",
              "      <td>1</td>\n",
              "      <td>0</td>\n",
              "    </tr>\n",
              "    <tr>\n",
              "      <th>4</th>\n",
              "      <td>1</td>\n",
              "      <td>PAYMENT</td>\n",
              "      <td>11668.14000</td>\n",
              "      <td>C2048537720</td>\n",
              "      <td>41554.00000</td>\n",
              "      <td>29885.86000</td>\n",
              "      <td>M1230701703</td>\n",
              "      <td>0.00000</td>\n",
              "      <td>0.00000</td>\n",
              "      <td>0</td>\n",
              "      <td>0</td>\n",
              "    </tr>\n",
              "  </tbody>\n",
              "</table>\n",
              "</div>\n",
              "      <button class=\"colab-df-convert\" onclick=\"convertToInteractive('df-80da7001-bfb9-469c-84cf-c9e18c5a4beb')\"\n",
              "              title=\"Convert this dataframe to an interactive table.\"\n",
              "              style=\"display:none;\">\n",
              "        \n",
              "  <svg xmlns=\"http://www.w3.org/2000/svg\" height=\"24px\"viewBox=\"0 0 24 24\"\n",
              "       width=\"24px\">\n",
              "    <path d=\"M0 0h24v24H0V0z\" fill=\"none\"/>\n",
              "    <path d=\"M18.56 5.44l.94 2.06.94-2.06 2.06-.94-2.06-.94-.94-2.06-.94 2.06-2.06.94zm-11 1L8.5 8.5l.94-2.06 2.06-.94-2.06-.94L8.5 2.5l-.94 2.06-2.06.94zm10 10l.94 2.06.94-2.06 2.06-.94-2.06-.94-.94-2.06-.94 2.06-2.06.94z\"/><path d=\"M17.41 7.96l-1.37-1.37c-.4-.4-.92-.59-1.43-.59-.52 0-1.04.2-1.43.59L10.3 9.45l-7.72 7.72c-.78.78-.78 2.05 0 2.83L4 21.41c.39.39.9.59 1.41.59.51 0 1.02-.2 1.41-.59l7.78-7.78 2.81-2.81c.8-.78.8-2.07 0-2.86zM5.41 20L4 18.59l7.72-7.72 1.47 1.35L5.41 20z\"/>\n",
              "  </svg>\n",
              "      </button>\n",
              "      \n",
              "  <style>\n",
              "    .colab-df-container {\n",
              "      display:flex;\n",
              "      flex-wrap:wrap;\n",
              "      gap: 12px;\n",
              "    }\n",
              "\n",
              "    .colab-df-convert {\n",
              "      background-color: #E8F0FE;\n",
              "      border: none;\n",
              "      border-radius: 50%;\n",
              "      cursor: pointer;\n",
              "      display: none;\n",
              "      fill: #1967D2;\n",
              "      height: 32px;\n",
              "      padding: 0 0 0 0;\n",
              "      width: 32px;\n",
              "    }\n",
              "\n",
              "    .colab-df-convert:hover {\n",
              "      background-color: #E2EBFA;\n",
              "      box-shadow: 0px 1px 2px rgba(60, 64, 67, 0.3), 0px 1px 3px 1px rgba(60, 64, 67, 0.15);\n",
              "      fill: #174EA6;\n",
              "    }\n",
              "\n",
              "    [theme=dark] .colab-df-convert {\n",
              "      background-color: #3B4455;\n",
              "      fill: #D2E3FC;\n",
              "    }\n",
              "\n",
              "    [theme=dark] .colab-df-convert:hover {\n",
              "      background-color: #434B5C;\n",
              "      box-shadow: 0px 1px 3px 1px rgba(0, 0, 0, 0.15);\n",
              "      filter: drop-shadow(0px 1px 2px rgba(0, 0, 0, 0.3));\n",
              "      fill: #FFFFFF;\n",
              "    }\n",
              "  </style>\n",
              "\n",
              "      <script>\n",
              "        const buttonEl =\n",
              "          document.querySelector('#df-80da7001-bfb9-469c-84cf-c9e18c5a4beb button.colab-df-convert');\n",
              "        buttonEl.style.display =\n",
              "          google.colab.kernel.accessAllowed ? 'block' : 'none';\n",
              "\n",
              "        async function convertToInteractive(key) {\n",
              "          const element = document.querySelector('#df-80da7001-bfb9-469c-84cf-c9e18c5a4beb');\n",
              "          const dataTable =\n",
              "            await google.colab.kernel.invokeFunction('convertToInteractive',\n",
              "                                                     [key], {});\n",
              "          if (!dataTable) return;\n",
              "\n",
              "          const docLinkHtml = 'Like what you see? Visit the ' +\n",
              "            '<a target=\"_blank\" href=https://colab.research.google.com/notebooks/data_table.ipynb>data table notebook</a>'\n",
              "            + ' to learn more about interactive tables.';\n",
              "          element.innerHTML = '';\n",
              "          dataTable['output_type'] = 'display_data';\n",
              "          await google.colab.output.renderOutput(dataTable, element);\n",
              "          const docLink = document.createElement('div');\n",
              "          docLink.innerHTML = docLinkHtml;\n",
              "          element.appendChild(docLink);\n",
              "        }\n",
              "      </script>\n",
              "    </div>\n",
              "  </div>\n",
              "  "
            ]
          },
          "metadata": {},
          "execution_count": 6
        }
      ]
    },
    {
      "cell_type": "markdown",
      "source": [
        "## Descrevendo as variaveis:"
      ],
      "metadata": {
        "id": "atgfJ_hsyaAR"
      }
    },
    {
      "cell_type": "markdown",
      "source": [
        "- step - Passo: representa o total de horas transcorrido desde o início da simulação. Esta feature vai variar entre 1 e 744 (30 dias);\n",
        "\n",
        "- type - Tipo: tipo de transação (depósito, saque, débito, pagamento e transferência);\n",
        "\n",
        "- amount - Quantia: total que foi transacionado;\n",
        "\n",
        "- nameOrig - ClienteOrigem: cliente que iniciou a transação\n",
        "\n",
        "- oldbalanceOrg - SaldoInicialOrigem: saldo da conta de origem antes da transação;\n",
        "\n",
        "- newbalanceOrig - SaldoFinalOrigem: saldo da conta de origem após a transação;\n",
        "\n",
        "- nameDest - ClienteDestino: cliente de destino da transação;\n",
        "\n",
        "- oldbalanceDest - SaldoInicialDestino: saldo da conta de destino antes da transação;\n",
        "\n",
        "- newbalanceDest - SaldoFinalDestino: saldo da conta de destino após a transação;\n",
        "\n",
        "- isFraud - ÉFraude: flag que define se a transação é fraudulenta ou não. Nesta simulação o objetivo da fraude é assumir a conta do usuário, esvaziá-la transferindo para outra conta e então sacando o dinheiro.\n",
        "\n",
        "- isFlaggedFraud - SinalizadaComoFraude: automaticamente marcadas pelo banco como fraude por tentarem transferir mais de 200.000 em uma única transação."
      ],
      "metadata": {
        "id": "FsReMIHvyfdF"
      }
    },
    {
      "cell_type": "markdown",
      "source": [
        "## Explorando:"
      ],
      "metadata": {
        "id": "rEINE-KWzEtJ"
      }
    },
    {
      "cell_type": "code",
      "source": [
        "data.isna().sum() # Nao tem NA"
      ],
      "metadata": {
        "colab": {
          "base_uri": "https://localhost:8080/"
        },
        "id": "jFigf21DzSgu",
        "outputId": "2f38f07e-e72c-4e77-9fc2-ebaec8907e75"
      },
      "execution_count": null,
      "outputs": [
        {
          "output_type": "execute_result",
          "data": {
            "text/plain": [
              "step              0\n",
              "type              0\n",
              "amount            0\n",
              "nameOrig          0\n",
              "oldbalanceOrg     0\n",
              "newbalanceOrig    0\n",
              "nameDest          0\n",
              "oldbalanceDest    0\n",
              "newbalanceDest    0\n",
              "isFraud           0\n",
              "isFlaggedFraud    0\n",
              "dtype: int64"
            ]
          },
          "metadata": {},
          "execution_count": 7
        }
      ]
    },
    {
      "cell_type": "code",
      "source": [
        "data.info()"
      ],
      "metadata": {
        "colab": {
          "base_uri": "https://localhost:8080/"
        },
        "id": "TCn0ZO-k0NVw",
        "outputId": "4e12d337-2808-425a-f472-87eaaf84e2f5"
      },
      "execution_count": null,
      "outputs": [
        {
          "output_type": "stream",
          "name": "stdout",
          "text": [
            "<class 'pandas.core.frame.DataFrame'>\n",
            "RangeIndex: 6362620 entries, 0 to 6362619\n",
            "Data columns (total 11 columns):\n",
            " #   Column          Dtype  \n",
            "---  ------          -----  \n",
            " 0   step            int64  \n",
            " 1   type            object \n",
            " 2   amount          float64\n",
            " 3   nameOrig        object \n",
            " 4   oldbalanceOrg   float64\n",
            " 5   newbalanceOrig  float64\n",
            " 6   nameDest        object \n",
            " 7   oldbalanceDest  float64\n",
            " 8   newbalanceDest  float64\n",
            " 9   isFraud         int64  \n",
            " 10  isFlaggedFraud  int64  \n",
            "dtypes: float64(5), int64(3), object(3)\n",
            "memory usage: 534.0+ MB\n"
          ]
        }
      ]
    },
    {
      "cell_type": "code",
      "source": [
        "data.type.unique()"
      ],
      "metadata": {
        "colab": {
          "base_uri": "https://localhost:8080/"
        },
        "id": "uIXCnQsdyt3B",
        "outputId": "ae658a1f-0489-4162-e5e5-20f395873fdf"
      },
      "execution_count": null,
      "outputs": [
        {
          "output_type": "execute_result",
          "data": {
            "text/plain": [
              "array(['PAYMENT', 'TRANSFER', 'CASH_OUT', 'DEBIT', 'CASH_IN'],\n",
              "      dtype=object)"
            ]
          },
          "metadata": {},
          "execution_count": 9
        }
      ]
    },
    {
      "cell_type": "markdown",
      "source": [
        "# Analise Exploratoria dos Dados (EDA)"
      ],
      "metadata": {
        "id": "UVDMroY90T86"
      }
    },
    {
      "cell_type": "code",
      "source": [
        "#Vamos ver quão desbalanceado é o nosso dataset, sabendo a proporção de transacoes fraudulentas do total de transacoes:\n",
        "(data['isFraud'].sum()/len(data)*100) #Vemos que a proporcao de transacoes fraudulentas é de 0.129% (Extremamente desbalanceado)"
      ],
      "metadata": {
        "colab": {
          "base_uri": "https://localhost:8080/"
        },
        "id": "eYlD8FYp8wSW",
        "outputId": "e8c39c6d-b103-420c-ac7d-1c71b01acd82"
      },
      "execution_count": null,
      "outputs": [
        {
          "output_type": "execute_result",
          "data": {
            "text/plain": [
              "0.12908204481801522"
            ]
          },
          "metadata": {},
          "execution_count": 10
        }
      ]
    },
    {
      "cell_type": "code",
      "source": [
        "#Primeiro vamos verificar a proporcao de cada tipo de transacao no nosso dataset:\n",
        "sns.countplot(x = data.type)\n"
      ],
      "metadata": {
        "colab": {
          "base_uri": "https://localhost:8080/",
          "height": 308
        },
        "id": "fGz6vkOa0Qp1",
        "outputId": "a173b84c-8eeb-4814-bb18-bffd3a6fae6c"
      },
      "execution_count": null,
      "outputs": [
        {
          "output_type": "execute_result",
          "data": {
            "text/plain": [
              "<matplotlib.axes._subplots.AxesSubplot at 0x7fec8c622050>"
            ]
          },
          "metadata": {},
          "execution_count": 11
        },
        {
          "output_type": "display_data",
          "data": {
            "text/plain": [
              "<Figure size 432x288 with 1 Axes>"
            ],
            "image/png": "[encoded data removed]"
          },
          "metadata": {
            "needs_background": "light"
          }
        }
      ]
    },
    {
      "cell_type": "code",
      "source": [
        "data.groupby('type')['isFraud'].sum()"
      ],
      "metadata": {
        "colab": {
          "base_uri": "https://localhost:8080/"
        },
        "id": "RYiZjWC_18V6",
        "outputId": "7e82c295-e9b3-4adb-f09b-2621589a07c8"
      },
      "execution_count": null,
      "outputs": [
        {
          "output_type": "execute_result",
          "data": {
            "text/plain": [
              "type\n",
              "CASH_IN        0\n",
              "CASH_OUT    4116\n",
              "DEBIT          0\n",
              "PAYMENT        0\n",
              "TRANSFER    4097\n",
              "Name: isFraud, dtype: int64"
            ]
          },
          "metadata": {},
          "execution_count": 12
        }
      ]
    },
    {
      "cell_type": "markdown",
      "source": [
        "## Removendo Duplicatas:"
      ],
      "metadata": {
        "id": "_IZ-FeDq-hyW"
      }
    },
    {
      "cell_type": "code",
      "source": [
        "len(data)"
      ],
      "metadata": {
        "colab": {
          "base_uri": "https://localhost:8080/"
        },
        "id": "iXNySOQR-mqk",
        "outputId": "aa64dda2-6d28-4726-fc69-39c1eccd8ced"
      },
      "execution_count": null,
      "outputs": [
        {
          "output_type": "execute_result",
          "data": {
            "text/plain": [
              "6362620"
            ]
          },
          "metadata": {},
          "execution_count": 13
        }
      ]
    },
    {
      "cell_type": "code",
      "source": [
        "data.drop_duplicates(keep = False, inplace = True)"
      ],
      "metadata": {
        "id": "gGcShkuC-oQC"
      },
      "execution_count": null,
      "outputs": []
    },
    {
      "cell_type": "code",
      "source": [
        "len(data) #Nao tinham duplicatas em nossos dados"
      ],
      "metadata": {
        "colab": {
          "base_uri": "https://localhost:8080/"
        },
        "id": "M60uh1wa-v95",
        "outputId": "b1b58460-26ed-44d7-f781-df733f984e40"
      },
      "execution_count": null,
      "outputs": [
        {
          "output_type": "execute_result",
          "data": {
            "text/plain": [
              "6362620"
            ]
          },
          "metadata": {},
          "execution_count": 15
        }
      ]
    },
    {
      "cell_type": "markdown",
      "source": [
        "## Verificando a Distribuição dos dados de transação:"
      ],
      "metadata": {
        "id": "bigTFLLA_FF2"
      }
    },
    {
      "cell_type": "code",
      "source": [
        "data.describe()"
      ],
      "metadata": {
        "colab": {
          "base_uri": "https://localhost:8080/",
          "height": 300
        },
        "id": "8BHQFx5i_I5_",
        "outputId": "c05db62c-1117-4d70-d6a1-d75628cc01f2"
      },
      "execution_count": null,
      "outputs": [
        {
          "output_type": "execute_result",
          "data": {
            "text/plain": [
              "               step         amount  oldbalanceOrg  newbalanceOrig  \\\n",
              "count 6362620.00000  6362620.00000  6362620.00000   6362620.00000   \n",
              "mean      243.39725   179861.90355   833883.10407    855113.66858   \n",
              "std       142.33197   603858.23146  2888242.67304   2924048.50295   \n",
              "min         1.00000        0.00000        0.00000         0.00000   \n",
              "25%       156.00000    13389.57000        0.00000         0.00000   \n",
              "50%       239.00000    74871.94000    14208.00000         0.00000   \n",
              "75%       335.00000   208721.47750   107315.17500    144258.41000   \n",
              "max       743.00000 92445516.64000 59585040.37000  49585040.37000   \n",
              "\n",
              "       oldbalanceDest  newbalanceDest       isFraud  isFlaggedFraud  \n",
              "count   6362620.00000   6362620.00000 6362620.00000   6362620.00000  \n",
              "mean    1100701.66652   1224996.39820       0.00129         0.00000  \n",
              "std     3399180.11299   3674128.94212       0.03590         0.00159  \n",
              "min           0.00000         0.00000       0.00000         0.00000  \n",
              "25%           0.00000         0.00000       0.00000         0.00000  \n",
              "50%      132705.66500    214661.44000       0.00000         0.00000  \n",
              "75%      943036.70750   1111909.25000       0.00000         0.00000  \n",
              "max   356015889.35000 356179278.92000       1.00000         1.00000  "
            ],
            "text/html": [
              "\n",
              "  <div id=\"df-5df8f9e9-63fa-4bdf-be9a-62036453d88b\">\n",
              "    <div class=\"colab-df-container\">\n",
              "      <div>\n",
              "<style scoped>\n",
              "    .dataframe tbody tr th:only-of-type {\n",
              "        vertical-align: middle;\n",
              "    }\n",
              "\n",
              "    .dataframe tbody tr th {\n",
              "        vertical-align: top;\n",
              "    }\n",
              "\n",
              "    .dataframe thead th {\n",
              "        text-align: right;\n",
              "    }\n",
              "</style>\n",
              "<table border=\"1\" class=\"dataframe\">\n",
              "  <thead>\n",
              "    <tr style=\"text-align: right;\">\n",
              "      <th></th>\n",
              "      <th>step</th>\n",
              "      <th>amount</th>\n",
              "      <th>oldbalanceOrg</th>\n",
              "      <th>newbalanceOrig</th>\n",
              "      <th>oldbalanceDest</th>\n",
              "      <th>newbalanceDest</th>\n",
              "      <th>isFraud</th>\n",
              "      <th>isFlaggedFraud</th>\n",
              "    </tr>\n",
              "  </thead>\n",
              "  <tbody>\n",
              "    <tr>\n",
              "      <th>count</th>\n",
              "      <td>6362620.00000</td>\n",
              "      <td>6362620.00000</td>\n",
              "      <td>6362620.00000</td>\n",
              "      <td>6362620.00000</td>\n",
              "      <td>6362620.00000</td>\n",
              "      <td>6362620.00000</td>\n",
              "      <td>6362620.00000</td>\n",
              "      <td>6362620.00000</td>\n",
              "    </tr>\n",
              "    <tr>\n",
              "      <th>mean</th>\n",
              "      <td>243.39725</td>\n",
              "      <td>179861.90355</td>\n",
              "      <td>833883.10407</td>\n",
              "      <td>855113.66858</td>\n",
              "      <td>1100701.66652</td>\n",
              "      <td>1224996.39820</td>\n",
              "      <td>0.00129</td>\n",
              "      <td>0.00000</td>\n",
              "    </tr>\n",
              "    <tr>\n",
              "      <th>std</th>\n",
              "      <td>142.33197</td>\n",
              "      <td>603858.23146</td>\n",
              "      <td>2888242.67304</td>\n",
              "      <td>2924048.50295</td>\n",
              "      <td>3399180.11299</td>\n",
              "      <td>3674128.94212</td>\n",
              "      <td>0.03590</td>\n",
              "      <td>0.00159</td>\n",
              "    </tr>\n",
              "    <tr>\n",
              "      <th>min</th>\n",
              "      <td>1.00000</td>\n",
              "      <td>0.00000</td>\n",
              "      <td>0.00000</td>\n",
              "      <td>0.00000</td>\n",
              "      <td>0.00000</td>\n",
              "      <td>0.00000</td>\n",
              "      <td>0.00000</td>\n",
              "      <td>0.00000</td>\n",
              "    </tr>\n",
              "    <tr>\n",
              "      <th>25%</th>\n",
              "      <td>156.00000</td>\n",
              "      <td>13389.57000</td>\n",
              "      <td>0.00000</td>\n",
              "      <td>0.00000</td>\n",
              "      <td>0.00000</td>\n",
              "      <td>0.00000</td>\n",
              "      <td>0.00000</td>\n",
              "      <td>0.00000</td>\n",
              "    </tr>\n",
              "    <tr>\n",
              "      <th>50%</th>\n",
              "      <td>239.00000</td>\n",
              "      <td>74871.94000</td>\n",
              "      <td>14208.00000</td>\n",
              "      <td>0.00000</td>\n",
              "      <td>132705.66500</td>\n",
              "      <td>214661.44000</td>\n",
              "      <td>0.00000</td>\n",
              "      <td>0.00000</td>\n",
              "    </tr>\n",
              "    <tr>\n",
              "      <th>75%</th>\n",
              "      <td>335.00000</td>\n",
              "      <td>208721.47750</td>\n",
              "      <td>107315.17500</td>\n",
              "      <td>144258.41000</td>\n",
              "      <td>943036.70750</td>\n",
              "      <td>1111909.25000</td>\n",
              "      <td>0.00000</td>\n",
              "      <td>0.00000</td>\n",
              "    </tr>\n",
              "    <tr>\n",
              "      <th>max</th>\n",
              "      <td>743.00000</td>\n",
              "      <td>92445516.64000</td>\n",
              "      <td>59585040.37000</td>\n",
              "      <td>49585040.37000</td>\n",
              "      <td>356015889.35000</td>\n",
              "      <td>356179278.92000</td>\n",
              "      <td>1.00000</td>\n",
              "      <td>1.00000</td>\n",
              "    </tr>\n",
              "  </tbody>\n",
              "</table>\n",
              "</div>\n",
              "      <button class=\"colab-df-convert\" onclick=\"convertToInteractive('df-5df8f9e9-63fa-4bdf-be9a-62036453d88b')\"\n",
              "              title=\"Convert this dataframe to an interactive table.\"\n",
              "              style=\"display:none;\">\n",
              "        \n",
              "  <svg xmlns=\"http://www.w3.org/2000/svg\" height=\"24px\"viewBox=\"0 0 24 24\"\n",
              "       width=\"24px\">\n",
              "    <path d=\"M0 0h24v24H0V0z\" fill=\"none\"/>\n",
              "    <path d=\"M18.56 5.44l.94 2.06.94-2.06 2.06-.94-2.06-.94-.94-2.06-.94 2.06-2.06.94zm-11 1L8.5 8.5l.94-2.06 2.06-.94-2.06-.94L8.5 2.5l-.94 2.06-2.06.94zm10 10l.94 2.06.94-2.06 2.06-.94-2.06-.94-.94-2.06-.94 2.06-2.06.94z\"/><path d=\"M17.41 7.96l-1.37-1.37c-.4-.4-.92-.59-1.43-.59-.52 0-1.04.2-1.43.59L10.3 9.45l-7.72 7.72c-.78.78-.78 2.05 0 2.83L4 21.41c.39.39.9.59 1.41.59.51 0 1.02-.2 1.41-.59l7.78-7.78 2.81-2.81c.8-.78.8-2.07 0-2.86zM5.41 20L4 18.59l7.72-7.72 1.47 1.35L5.41 20z\"/>\n",
              "  </svg>\n",
              "      </button>\n",
              "      \n",
              "  <style>\n",
              "    .colab-df-container {\n",
              "      display:flex;\n",
              "      flex-wrap:wrap;\n",
              "      gap: 12px;\n",
              "    }\n",
              "\n",
              "    .colab-df-convert {\n",
              "      background-color: #E8F0FE;\n",
              "      border: none;\n",
              "      border-radius: 50%;\n",
              "      cursor: pointer;\n",
              "      display: none;\n",
              "      fill: #1967D2;\n",
              "      height: 32px;\n",
              "      padding: 0 0 0 0;\n",
              "      width: 32px;\n",
              "    }\n",
              "\n",
              "    .colab-df-convert:hover {\n",
              "      background-color: #E2EBFA;\n",
              "      box-shadow: 0px 1px 2px rgba(60, 64, 67, 0.3), 0px 1px 3px 1px rgba(60, 64, 67, 0.15);\n",
              "      fill: #174EA6;\n",
              "    }\n",
              "\n",
              "    [theme=dark] .colab-df-convert {\n",
              "      background-color: #3B4455;\n",
              "      fill: #D2E3FC;\n",
              "    }\n",
              "\n",
              "    [theme=dark] .colab-df-convert:hover {\n",
              "      background-color: #434B5C;\n",
              "      box-shadow: 0px 1px 3px 1px rgba(0, 0, 0, 0.15);\n",
              "      filter: drop-shadow(0px 1px 2px rgba(0, 0, 0, 0.3));\n",
              "      fill: #FFFFFF;\n",
              "    }\n",
              "  </style>\n",
              "\n",
              "      <script>\n",
              "        const buttonEl =\n",
              "          document.querySelector('#df-5df8f9e9-63fa-4bdf-be9a-62036453d88b button.colab-df-convert');\n",
              "        buttonEl.style.display =\n",
              "          google.colab.kernel.accessAllowed ? 'block' : 'none';\n",
              "\n",
              "        async function convertToInteractive(key) {\n",
              "          const element = document.querySelector('#df-5df8f9e9-63fa-4bdf-be9a-62036453d88b');\n",
              "          const dataTable =\n",
              "            await google.colab.kernel.invokeFunction('convertToInteractive',\n",
              "                                                     [key], {});\n",
              "          if (!dataTable) return;\n",
              "\n",
              "          const docLinkHtml = 'Like what you see? Visit the ' +\n",
              "            '<a target=\"_blank\" href=https://colab.research.google.com/notebooks/data_table.ipynb>data table notebook</a>'\n",
              "            + ' to learn more about interactive tables.';\n",
              "          element.innerHTML = '';\n",
              "          dataTable['output_type'] = 'display_data';\n",
              "          await google.colab.output.renderOutput(dataTable, element);\n",
              "          const docLink = document.createElement('div');\n",
              "          docLink.innerHTML = docLinkHtml;\n",
              "          element.appendChild(docLink);\n",
              "        }\n",
              "      </script>\n",
              "    </div>\n",
              "  </div>\n",
              "  "
            ]
          },
          "metadata": {},
          "execution_count": 16
        }
      ]
    },
    {
      "cell_type": "markdown",
      "source": [
        "Verificamos que na nossa variavel \"Amount\", apenas 25% dos valores estão abaixo de 14k. Metade dos valores estão abaixo de 75k e 25% dos valores estão acima de 200k. Sendo assim, iremos classificar essas transacoes como 'LOW' , 'MODERATE' , 'HIGH' e ' EXT HIGH', com os limites dispostos abaixo:"
      ],
      "metadata": {
        "id": "L8_0nic_AaSo"
      }
    },
    {
      "cell_type": "code",
      "source": [
        "def amount_category(x):\n",
        "    if x >= 200000:\n",
        "        return('EXT HIGH')\n",
        "    elif x < 200000 and x >= 75000:\n",
        "        return('HIGH')\n",
        "    elif x < 75000 and x > 14000:\n",
        "        return('MODERATE')\n",
        "    else:\n",
        "        return(\"LOW\")\n",
        "data['transfer_amount_category'] = data['amount'].apply(amount_category)    \n",
        "data.head()"
      ],
      "metadata": {
        "colab": {
          "base_uri": "https://localhost:8080/",
          "height": 206
        },
        "id": "RAgVjmR2A15W",
        "outputId": "9e2ece60-d9f5-4438-b729-261b95990685"
      },
      "execution_count": null,
      "outputs": [
        {
          "output_type": "execute_result",
          "data": {
            "text/plain": [
              "   step      type      amount     nameOrig  oldbalanceOrg  newbalanceOrig  \\\n",
              "0     1   PAYMENT  9839.64000  C1231006815   170136.00000    160296.36000   \n",
              "1     1   PAYMENT  1864.28000  C1666544295    21249.00000     19384.72000   \n",
              "2     1  TRANSFER   181.00000  C1305486145      181.00000         0.00000   \n",
              "3     1  CASH_OUT   181.00000   C840083671      181.00000         0.00000   \n",
              "4     1   PAYMENT 11668.14000  C2048537720    41554.00000     29885.86000   \n",
              "\n",
              "      nameDest  oldbalanceDest  newbalanceDest  isFraud  isFlaggedFraud  \\\n",
              "0  M1979787155         0.00000         0.00000        0               0   \n",
              "1  M2044282225         0.00000         0.00000        0               0   \n",
              "2   C553264065         0.00000         0.00000        1               0   \n",
              "3    C38997010     21182.00000         0.00000        1               0   \n",
              "4  M1230701703         0.00000         0.00000        0               0   \n",
              "\n",
              "  transfer_amount_category  \n",
              "0                      LOW  \n",
              "1                      LOW  \n",
              "2                      LOW  \n",
              "3                      LOW  \n",
              "4                      LOW  "
            ],
            "text/html": [
              "\n",
              "  <div id=\"df-fd8dc758-3355-4701-80ce-fae388a5bf2e\">\n",
              "    <div class=\"colab-df-container\">\n",
              "      <div>\n",
              "<style scoped>\n",
              "    .dataframe tbody tr th:only-of-type {\n",
              "        vertical-align: middle;\n",
              "    }\n",
              "\n",
              "    .dataframe tbody tr th {\n",
              "        vertical-align: top;\n",
              "    }\n",
              "\n",
              "    .dataframe thead th {\n",
              "        text-align: right;\n",
              "    }\n",
              "</style>\n",
              "<table border=\"1\" class=\"dataframe\">\n",
              "  <thead>\n",
              "    <tr style=\"text-align: right;\">\n",
              "      <th></th>\n",
              "      <th>step</th>\n",
              "      <th>type</th>\n",
              "      <th>amount</th>\n",
              "      <th>nameOrig</th>\n",
              "      <th>oldbalanceOrg</th>\n",
              "      <th>newbalanceOrig</th>\n",
              "      <th>nameDest</th>\n",
              "      <th>oldbalanceDest</th>\n",
              "      <th>newbalanceDest</th>\n",
              "      <th>isFraud</th>\n",
              "      <th>isFlaggedFraud</th>\n",
              "      <th>transfer_amount_category</th>\n",
              "    </tr>\n",
              "  </thead>\n",
              "  <tbody>\n",
              "    <tr>\n",
              "      <th>0</th>\n",
              "      <td>1</td>\n",
              "      <td>PAYMENT</td>\n",
              "      <td>9839.64000</td>\n",
              "      <td>C1231006815</td>\n",
              "      <td>170136.00000</td>\n",
              "      <td>160296.36000</td>\n",
              "      <td>M1979787155</td>\n",
              "      <td>0.00000</td>\n",
              "      <td>0.00000</td>\n",
              "      <td>0</td>\n",
              "      <td>0</td>\n",
              "      <td>LOW</td>\n",
              "    </tr>\n",
              "    <tr>\n",
              "      <th>1</th>\n",
              "      <td>1</td>\n",
              "      <td>PAYMENT</td>\n",
              "      <td>1864.28000</td>\n",
              "      <td>C1666544295</td>\n",
              "      <td>21249.00000</td>\n",
              "      <td>19384.72000</td>\n",
              "      <td>M2044282225</td>\n",
              "      <td>0.00000</td>\n",
              "      <td>0.00000</td>\n",
              "      <td>0</td>\n",
              "      <td>0</td>\n",
              "      <td>LOW</td>\n",
              "    </tr>\n",
              "    <tr>\n",
              "      <th>2</th>\n",
              "      <td>1</td>\n",
              "      <td>TRANSFER</td>\n",
              "      <td>181.00000</td>\n",
              "      <td>C1305486145</td>\n",
              "      <td>181.00000</td>\n",
              "      <td>0.00000</td>\n",
              "      <td>C553264065</td>\n",
              "      <td>0.00000</td>\n",
              "      <td>0.00000</td>\n",
              "      <td>1</td>\n",
              "      <td>0</td>\n",
              "      <td>LOW</td>\n",
              "    </tr>\n",
              "    <tr>\n",
              "      <th>3</th>\n",
              "      <td>1</td>\n",
              "      <td>CASH_OUT</td>\n",
              "      <td>181.00000</td>\n",
              "      <td>C840083671</td>\n",
              "      <td>181.00000</td>\n",
              "      <td>0.00000</td>\n",
              "      <td>C38997010</td>\n",
              "      <td>21182.00000</td>\n",
              "      <td>0.00000</td>\n",
              "      <td>1</td>\n",
              "      <td>0</td>\n",
              "      <td>LOW</td>\n",
              "    </tr>\n",
              "    <tr>\n",
              "      <th>4</th>\n",
              "      <td>1</td>\n",
              "      <td>PAYMENT</td>\n",
              "      <td>11668.14000</td>\n",
              "      <td>C2048537720</td>\n",
              "      <td>41554.00000</td>\n",
              "      <td>29885.86000</td>\n",
              "      <td>M1230701703</td>\n",
              "      <td>0.00000</td>\n",
              "      <td>0.00000</td>\n",
              "      <td>0</td>\n",
              "      <td>0</td>\n",
              "      <td>LOW</td>\n",
              "    </tr>\n",
              "  </tbody>\n",
              "</table>\n",
              "</div>\n",
              "      <button class=\"colab-df-convert\" onclick=\"convertToInteractive('df-fd8dc758-3355-4701-80ce-fae388a5bf2e')\"\n",
              "              title=\"Convert this dataframe to an interactive table.\"\n",
              "              style=\"display:none;\">\n",
              "        \n",
              "  <svg xmlns=\"http://www.w3.org/2000/svg\" height=\"24px\"viewBox=\"0 0 24 24\"\n",
              "       width=\"24px\">\n",
              "    <path d=\"M0 0h24v24H0V0z\" fill=\"none\"/>\n",
              "    <path d=\"M18.56 5.44l.94 2.06.94-2.06 2.06-.94-2.06-.94-.94-2.06-.94 2.06-2.06.94zm-11 1L8.5 8.5l.94-2.06 2.06-.94-2.06-.94L8.5 2.5l-.94 2.06-2.06.94zm10 10l.94 2.06.94-2.06 2.06-.94-2.06-.94-.94-2.06-.94 2.06-2.06.94z\"/><path d=\"M17.41 7.96l-1.37-1.37c-.4-.4-.92-.59-1.43-.59-.52 0-1.04.2-1.43.59L10.3 9.45l-7.72 7.72c-.78.78-.78 2.05 0 2.83L4 21.41c.39.39.9.59 1.41.59.51 0 1.02-.2 1.41-.59l7.78-7.78 2.81-2.81c.8-.78.8-2.07 0-2.86zM5.41 20L4 18.59l7.72-7.72 1.47 1.35L5.41 20z\"/>\n",
              "  </svg>\n",
              "      </button>\n",
              "      \n",
              "  <style>\n",
              "    .colab-df-container {\n",
              "      display:flex;\n",
              "      flex-wrap:wrap;\n",
              "      gap: 12px;\n",
              "    }\n",
              "\n",
              "    .colab-df-convert {\n",
              "      background-color: #E8F0FE;\n",
              "      border: none;\n",
              "      border-radius: 50%;\n",
              "      cursor: pointer;\n",
              "      display: none;\n",
              "      fill: #1967D2;\n",
              "      height: 32px;\n",
              "      padding: 0 0 0 0;\n",
              "      width: 32px;\n",
              "    }\n",
              "\n",
              "    .colab-df-convert:hover {\n",
              "      background-color: #E2EBFA;\n",
              "      box-shadow: 0px 1px 2px rgba(60, 64, 67, 0.3), 0px 1px 3px 1px rgba(60, 64, 67, 0.15);\n",
              "      fill: #174EA6;\n",
              "    }\n",
              "\n",
              "    [theme=dark] .colab-df-convert {\n",
              "      background-color: #3B4455;\n",
              "      fill: #D2E3FC;\n",
              "    }\n",
              "\n",
              "    [theme=dark] .colab-df-convert:hover {\n",
              "      background-color: #434B5C;\n",
              "      box-shadow: 0px 1px 3px 1px rgba(0, 0, 0, 0.15);\n",
              "      filter: drop-shadow(0px 1px 2px rgba(0, 0, 0, 0.3));\n",
              "      fill: #FFFFFF;\n",
              "    }\n",
              "  </style>\n",
              "\n",
              "      <script>\n",
              "        const buttonEl =\n",
              "          document.querySelector('#df-fd8dc758-3355-4701-80ce-fae388a5bf2e button.colab-df-convert');\n",
              "        buttonEl.style.display =\n",
              "          google.colab.kernel.accessAllowed ? 'block' : 'none';\n",
              "\n",
              "        async function convertToInteractive(key) {\n",
              "          const element = document.querySelector('#df-fd8dc758-3355-4701-80ce-fae388a5bf2e');\n",
              "          const dataTable =\n",
              "            await google.colab.kernel.invokeFunction('convertToInteractive',\n",
              "                                                     [key], {});\n",
              "          if (!dataTable) return;\n",
              "\n",
              "          const docLinkHtml = 'Like what you see? Visit the ' +\n",
              "            '<a target=\"_blank\" href=https://colab.research.google.com/notebooks/data_table.ipynb>data table notebook</a>'\n",
              "            + ' to learn more about interactive tables.';\n",
              "          element.innerHTML = '';\n",
              "          dataTable['output_type'] = 'display_data';\n",
              "          await google.colab.output.renderOutput(dataTable, element);\n",
              "          const docLink = document.createElement('div');\n",
              "          docLink.innerHTML = docLinkHtml;\n",
              "          element.appendChild(docLink);\n",
              "        }\n",
              "      </script>\n",
              "    </div>\n",
              "  </div>\n",
              "  "
            ]
          },
          "metadata": {},
          "execution_count": 17
        }
      ]
    },
    {
      "cell_type": "markdown",
      "source": [
        "## Normalizando Features Numericas"
      ],
      "metadata": {
        "id": "TROoz-SFI-i6"
      }
    },
    {
      "cell_type": "code",
      "source": [
        "data_model = data"
      ],
      "metadata": {
        "id": "Z24WIICPI91P"
      },
      "execution_count": null,
      "outputs": []
    },
    {
      "cell_type": "code",
      "source": [
        "norm = Normalizer()"
      ],
      "metadata": {
        "id": "fweWj03QKaE-"
      },
      "execution_count": null,
      "outputs": []
    },
    {
      "cell_type": "code",
      "source": [
        "normalizer = Normalizer()\n",
        "amount_scale = normalizer.fit_transform(data.amount.values.reshape(1,-1)) #Tem que dar esse primeiro reshape por ser um array a ser normalizado\n",
        "data['amount_norm'] = amount_scale.reshape(-1,1) #E esse segundo para imputarmos em uma coluna\n",
        "data_model['amount'] = amount_scale.reshape(-1,1)\n",
        "\n",
        "amount_oldbalanceOrg = normalizer.fit_transform(data.oldbalanceOrg.values.reshape(1,-1))\n",
        "data['oldbalanceOrg_norm'] = amount_oldbalanceOrg.reshape(-1,1)\n",
        "data_model['oldbalanceOrg'] = amount_oldbalanceOrg.reshape(-1,1)\n",
        "\n",
        "amount_newbalanceOrig = normalizer.fit_transform(data.newbalanceOrig.values.reshape(1,-1))\n",
        "data['newbalanceOrig_norm'] = amount_newbalanceOrig.reshape(-1,1)\n",
        "data_model['newbalanceOrig'] = amount_newbalanceOrig.reshape(-1,1)\n",
        "\n",
        "amount_oldbalanceDest= normalizer.fit_transform(data.oldbalanceDest.values.reshape(1,-1))\n",
        "data['oldbalanceDest_norm'] = amount_oldbalanceDest.reshape(-1,1)\n",
        "data_model['oldbalanceDest'] = amount_oldbalanceDest.reshape(-1,1)\n",
        "\n",
        "amount_newbalanceDest = normalizer.fit_transform(data.newbalanceDest.values.reshape(1,-1))\n",
        "data['newbalanceDest_norm'] = amount_newbalanceDest.reshape(-1,1)\n",
        "data_model['newbalanceDest'] = amount_newbalanceDest.reshape(-1,1)"
      ],
      "metadata": {
        "id": "YWeTZrZcLaT9"
      },
      "execution_count": null,
      "outputs": []
    },
    {
      "cell_type": "code",
      "source": [
        "data.head()"
      ],
      "metadata": {
        "colab": {
          "base_uri": "https://localhost:8080/",
          "height": 270
        },
        "id": "92lbR72qosd1",
        "outputId": "f25efdc5-201f-4515-986f-bf80c23c1f03"
      },
      "execution_count": null,
      "outputs": [
        {
          "output_type": "execute_result",
          "data": {
            "text/plain": [
              "   step      type  amount     nameOrig  oldbalanceOrg  newbalanceOrig  \\\n",
              "0     1   PAYMENT 0.00001  C1231006815        0.00002         0.00002   \n",
              "1     1   PAYMENT 0.00000  C1666544295        0.00000         0.00000   \n",
              "2     1  TRANSFER 0.00000  C1305486145        0.00000         0.00000   \n",
              "3     1  CASH_OUT 0.00000   C840083671        0.00000         0.00000   \n",
              "4     1   PAYMENT 0.00001  C2048537720        0.00001         0.00000   \n",
              "\n",
              "      nameDest  oldbalanceDest  newbalanceDest  isFraud  isFlaggedFraud  \\\n",
              "0  M1979787155         0.00000         0.00000        0               0   \n",
              "1  M2044282225         0.00000         0.00000        0               0   \n",
              "2   C553264065         0.00000         0.00000        1               0   \n",
              "3    C38997010         0.00000         0.00000        1               0   \n",
              "4  M1230701703         0.00000         0.00000        0               0   \n",
              "\n",
              "  transfer_amount_category  amount_norm  oldbalanceOrg_norm  \\\n",
              "0                      LOW      0.00001             0.00002   \n",
              "1                      LOW      0.00000             0.00000   \n",
              "2                      LOW      0.00000             0.00000   \n",
              "3                      LOW      0.00000             0.00000   \n",
              "4                      LOW      0.00001             0.00001   \n",
              "\n",
              "   newbalanceOrig_norm  oldbalanceDest_norm  newbalanceDest_norm  \n",
              "0              0.00002              0.00000              0.00000  \n",
              "1              0.00000              0.00000              0.00000  \n",
              "2              0.00000              0.00000              0.00000  \n",
              "3              0.00000              0.00000              0.00000  \n",
              "4              0.00000              0.00000              0.00000  "
            ],
            "text/html": [
              "\n",
              "  <div id=\"df-d29e5460-cebc-41ac-ba3b-37f638d4220c\">\n",
              "    <div class=\"colab-df-container\">\n",
              "      <div>\n",
              "<style scoped>\n",
              "    .dataframe tbody tr th:only-of-type {\n",
              "        vertical-align: middle;\n",
              "    }\n",
              "\n",
              "    .dataframe tbody tr th {\n",
              "        vertical-align: top;\n",
              "    }\n",
              "\n",
              "    .dataframe thead th {\n",
              "        text-align: right;\n",
              "    }\n",
              "</style>\n",
              "<table border=\"1\" class=\"dataframe\">\n",
              "  <thead>\n",
              "    <tr style=\"text-align: right;\">\n",
              "      <th></th>\n",
              "      <th>step</th>\n",
              "      <th>type</th>\n",
              "      <th>amount</th>\n",
              "      <th>nameOrig</th>\n",
              "      <th>oldbalanceOrg</th>\n",
              "      <th>newbalanceOrig</th>\n",
              "      <th>nameDest</th>\n",
              "      <th>oldbalanceDest</th>\n",
              "      <th>newbalanceDest</th>\n",
              "      <th>isFraud</th>\n",
              "      <th>isFlaggedFraud</th>\n",
              "      <th>transfer_amount_category</th>\n",
              "      <th>amount_norm</th>\n",
              "      <th>oldbalanceOrg_norm</th>\n",
              "      <th>newbalanceOrig_norm</th>\n",
              "      <th>oldbalanceDest_norm</th>\n",
              "      <th>newbalanceDest_norm</th>\n",
              "    </tr>\n",
              "  </thead>\n",
              "  <tbody>\n",
              "    <tr>\n",
              "      <th>0</th>\n",
              "      <td>1</td>\n",
              "      <td>PAYMENT</td>\n",
              "      <td>0.00001</td>\n",
              "      <td>C1231006815</td>\n",
              "      <td>0.00002</td>\n",
              "      <td>0.00002</td>\n",
              "      <td>M1979787155</td>\n",
              "      <td>0.00000</td>\n",
              "      <td>0.00000</td>\n",
              "      <td>0</td>\n",
              "      <td>0</td>\n",
              "      <td>LOW</td>\n",
              "      <td>0.00001</td>\n",
              "      <td>0.00002</td>\n",
              "      <td>0.00002</td>\n",
              "      <td>0.00000</td>\n",
              "      <td>0.00000</td>\n",
              "    </tr>\n",
              "    <tr>\n",
              "      <th>1</th>\n",
              "      <td>1</td>\n",
              "      <td>PAYMENT</td>\n",
              "      <td>0.00000</td>\n",
              "      <td>C1666544295</td>\n",
              "      <td>0.00000</td>\n",
              "      <td>0.00000</td>\n",
              "      <td>M2044282225</td>\n",
              "      <td>0.00000</td>\n",
              "      <td>0.00000</td>\n",
              "      <td>0</td>\n",
              "      <td>0</td>\n",
              "      <td>LOW</td>\n",
              "      <td>0.00000</td>\n",
              "      <td>0.00000</td>\n",
              "      <td>0.00000</td>\n",
              "      <td>0.00000</td>\n",
              "      <td>0.00000</td>\n",
              "    </tr>\n",
              "    <tr>\n",
              "      <th>2</th>\n",
              "      <td>1</td>\n",
              "      <td>TRANSFER</td>\n",
              "      <td>0.00000</td>\n",
              "      <td>C1305486145</td>\n",
              "      <td>0.00000</td>\n",
              "      <td>0.00000</td>\n",
              "      <td>C553264065</td>\n",
              "      <td>0.00000</td>\n",
              "      <td>0.00000</td>\n",
              "      <td>1</td>\n",
              "      <td>0</td>\n",
              "      <td>LOW</td>\n",
              "      <td>0.00000</td>\n",
              "      <td>0.00000</td>\n",
              "      <td>0.00000</td>\n",
              "      <td>0.00000</td>\n",
              "      <td>0.00000</td>\n",
              "    </tr>\n",
              "    <tr>\n",
              "      <th>3</th>\n",
              "      <td>1</td>\n",
              "      <td>CASH_OUT</td>\n",
              "      <td>0.00000</td>\n",
              "      <td>C840083671</td>\n",
              "      <td>0.00000</td>\n",
              "      <td>0.00000</td>\n",
              "      <td>C38997010</td>\n",
              "      <td>0.00000</td>\n",
              "      <td>0.00000</td>\n",
              "      <td>1</td>\n",
              "      <td>0</td>\n",
              "      <td>LOW</td>\n",
              "      <td>0.00000</td>\n",
              "      <td>0.00000</td>\n",
              "      <td>0.00000</td>\n",
              "      <td>0.00000</td>\n",
              "      <td>0.00000</td>\n",
              "    </tr>\n",
              "    <tr>\n",
              "      <th>4</th>\n",
              "      <td>1</td>\n",
              "      <td>PAYMENT</td>\n",
              "      <td>0.00001</td>\n",
              "      <td>C2048537720</td>\n",
              "      <td>0.00001</td>\n",
              "      <td>0.00000</td>\n",
              "      <td>M1230701703</td>\n",
              "      <td>0.00000</td>\n",
              "      <td>0.00000</td>\n",
              "      <td>0</td>\n",
              "      <td>0</td>\n",
              "      <td>LOW</td>\n",
              "      <td>0.00001</td>\n",
              "      <td>0.00001</td>\n",
              "      <td>0.00000</td>\n",
              "      <td>0.00000</td>\n",
              "      <td>0.00000</td>\n",
              "    </tr>\n",
              "  </tbody>\n",
              "</table>\n",
              "</div>\n",
              "      <button class=\"colab-df-convert\" onclick=\"convertToInteractive('df-d29e5460-cebc-41ac-ba3b-37f638d4220c')\"\n",
              "              title=\"Convert this dataframe to an interactive table.\"\n",
              "              style=\"display:none;\">\n",
              "        \n",
              "  <svg xmlns=\"http://www.w3.org/2000/svg\" height=\"24px\"viewBox=\"0 0 24 24\"\n",
              "       width=\"24px\">\n",
              "    <path d=\"M0 0h24v24H0V0z\" fill=\"none\"/>\n",
              "    <path d=\"M18.56 5.44l.94 2.06.94-2.06 2.06-.94-2.06-.94-.94-2.06-.94 2.06-2.06.94zm-11 1L8.5 8.5l.94-2.06 2.06-.94-2.06-.94L8.5 2.5l-.94 2.06-2.06.94zm10 10l.94 2.06.94-2.06 2.06-.94-2.06-.94-.94-2.06-.94 2.06-2.06.94z\"/><path d=\"M17.41 7.96l-1.37-1.37c-.4-.4-.92-.59-1.43-.59-.52 0-1.04.2-1.43.59L10.3 9.45l-7.72 7.72c-.78.78-.78 2.05 0 2.83L4 21.41c.39.39.9.59 1.41.59.51 0 1.02-.2 1.41-.59l7.78-7.78 2.81-2.81c.8-.78.8-2.07 0-2.86zM5.41 20L4 18.59l7.72-7.72 1.47 1.35L5.41 20z\"/>\n",
              "  </svg>\n",
              "      </button>\n",
              "      \n",
              "  <style>\n",
              "    .colab-df-container {\n",
              "      display:flex;\n",
              "      flex-wrap:wrap;\n",
              "      gap: 12px;\n",
              "    }\n",
              "\n",
              "    .colab-df-convert {\n",
              "      background-color: #E8F0FE;\n",
              "      border: none;\n",
              "      border-radius: 50%;\n",
              "      cursor: pointer;\n",
              "      display: none;\n",
              "      fill: #1967D2;\n",
              "      height: 32px;\n",
              "      padding: 0 0 0 0;\n",
              "      width: 32px;\n",
              "    }\n",
              "\n",
              "    .colab-df-convert:hover {\n",
              "      background-color: #E2EBFA;\n",
              "      box-shadow: 0px 1px 2px rgba(60, 64, 67, 0.3), 0px 1px 3px 1px rgba(60, 64, 67, 0.15);\n",
              "      fill: #174EA6;\n",
              "    }\n",
              "\n",
              "    [theme=dark] .colab-df-convert {\n",
              "      background-color: #3B4455;\n",
              "      fill: #D2E3FC;\n",
              "    }\n",
              "\n",
              "    [theme=dark] .colab-df-convert:hover {\n",
              "      background-color: #434B5C;\n",
              "      box-shadow: 0px 1px 3px 1px rgba(0, 0, 0, 0.15);\n",
              "      filter: drop-shadow(0px 1px 2px rgba(0, 0, 0, 0.3));\n",
              "      fill: #FFFFFF;\n",
              "    }\n",
              "  </style>\n",
              "\n",
              "      <script>\n",
              "        const buttonEl =\n",
              "          document.querySelector('#df-d29e5460-cebc-41ac-ba3b-37f638d4220c button.colab-df-convert');\n",
              "        buttonEl.style.display =\n",
              "          google.colab.kernel.accessAllowed ? 'block' : 'none';\n",
              "\n",
              "        async function convertToInteractive(key) {\n",
              "          const element = document.querySelector('#df-d29e5460-cebc-41ac-ba3b-37f638d4220c');\n",
              "          const dataTable =\n",
              "            await google.colab.kernel.invokeFunction('convertToInteractive',\n",
              "                                                     [key], {});\n",
              "          if (!dataTable) return;\n",
              "\n",
              "          const docLinkHtml = 'Like what you see? Visit the ' +\n",
              "            '<a target=\"_blank\" href=https://colab.research.google.com/notebooks/data_table.ipynb>data table notebook</a>'\n",
              "            + ' to learn more about interactive tables.';\n",
              "          element.innerHTML = '';\n",
              "          dataTable['output_type'] = 'display_data';\n",
              "          await google.colab.output.renderOutput(dataTable, element);\n",
              "          const docLink = document.createElement('div');\n",
              "          docLink.innerHTML = docLinkHtml;\n",
              "          element.appendChild(docLink);\n",
              "        }\n",
              "      </script>\n",
              "    </div>\n",
              "  </div>\n",
              "  "
            ]
          },
          "metadata": {},
          "execution_count": 21
        }
      ]
    },
    {
      "cell_type": "markdown",
      "source": [
        "# Modelagem:"
      ],
      "metadata": {
        "id": "GGUneuG5p1jA"
      }
    },
    {
      "cell_type": "code",
      "source": [
        "#Train Test Split\n",
        "X = data[['type','amount_norm','transfer_amount_category','nameOrig','oldbalanceOrg_norm','newbalanceOrig_norm','nameDest','oldbalanceDest_norm','newbalanceDest_norm']]\n",
        "Y = data[['isFraud']]\n",
        "X.head()"
      ],
      "metadata": {
        "colab": {
          "base_uri": "https://localhost:8080/",
          "height": 206
        },
        "id": "7iNZjfgxp3jC",
        "outputId": "e0eae2a3-438c-4b4e-9d58-208aac3e2bb0"
      },
      "execution_count": null,
      "outputs": [
        {
          "output_type": "execute_result",
          "data": {
            "text/plain": [
              "       type  amount_norm transfer_amount_category     nameOrig  \\\n",
              "0   PAYMENT      0.00001                      LOW  C1231006815   \n",
              "1   PAYMENT      0.00000                      LOW  C1666544295   \n",
              "2  TRANSFER      0.00000                      LOW  C1305486145   \n",
              "3  CASH_OUT      0.00000                      LOW   C840083671   \n",
              "4   PAYMENT      0.00001                      LOW  C2048537720   \n",
              "\n",
              "   oldbalanceOrg_norm  newbalanceOrig_norm     nameDest  oldbalanceDest_norm  \\\n",
              "0             0.00002              0.00002  M1979787155              0.00000   \n",
              "1             0.00000              0.00000  M2044282225              0.00000   \n",
              "2             0.00000              0.00000   C553264065              0.00000   \n",
              "3             0.00000              0.00000    C38997010              0.00000   \n",
              "4             0.00001              0.00000  M1230701703              0.00000   \n",
              "\n",
              "   newbalanceDest_norm  \n",
              "0              0.00000  \n",
              "1              0.00000  \n",
              "2              0.00000  \n",
              "3              0.00000  \n",
              "4              0.00000  "
            ],
            "text/html": [
              "\n",
              "  <div id=\"df-8fbcc973-6f17-4e98-a6da-f0d3387e2d62\">\n",
              "    <div class=\"colab-df-container\">\n",
              "      <div>\n",
              "<style scoped>\n",
              "    .dataframe tbody tr th:only-of-type {\n",
              "        vertical-align: middle;\n",
              "    }\n",
              "\n",
              "    .dataframe tbody tr th {\n",
              "        vertical-align: top;\n",
              "    }\n",
              "\n",
              "    .dataframe thead th {\n",
              "        text-align: right;\n",
              "    }\n",
              "</style>\n",
              "<table border=\"1\" class=\"dataframe\">\n",
              "  <thead>\n",
              "    <tr style=\"text-align: right;\">\n",
              "      <th></th>\n",
              "      <th>type</th>\n",
              "      <th>amount_norm</th>\n",
              "      <th>transfer_amount_category</th>\n",
              "      <th>nameOrig</th>\n",
              "      <th>oldbalanceOrg_norm</th>\n",
              "      <th>newbalanceOrig_norm</th>\n",
              "      <th>nameDest</th>\n",
              "      <th>oldbalanceDest_norm</th>\n",
              "      <th>newbalanceDest_norm</th>\n",
              "    </tr>\n",
              "  </thead>\n",
              "  <tbody>\n",
              "    <tr>\n",
              "      <th>0</th>\n",
              "      <td>PAYMENT</td>\n",
              "      <td>0.00001</td>\n",
              "      <td>LOW</td>\n",
              "      <td>C1231006815</td>\n",
              "      <td>0.00002</td>\n",
              "      <td>0.00002</td>\n",
              "      <td>M1979787155</td>\n",
              "      <td>0.00000</td>\n",
              "      <td>0.00000</td>\n",
              "    </tr>\n",
              "    <tr>\n",
              "      <th>1</th>\n",
              "      <td>PAYMENT</td>\n",
              "      <td>0.00000</td>\n",
              "      <td>LOW</td>\n",
              "      <td>C1666544295</td>\n",
              "      <td>0.00000</td>\n",
              "      <td>0.00000</td>\n",
              "      <td>M2044282225</td>\n",
              "      <td>0.00000</td>\n",
              "      <td>0.00000</td>\n",
              "    </tr>\n",
              "    <tr>\n",
              "      <th>2</th>\n",
              "      <td>TRANSFER</td>\n",
              "      <td>0.00000</td>\n",
              "      <td>LOW</td>\n",
              "      <td>C1305486145</td>\n",
              "      <td>0.00000</td>\n",
              "      <td>0.00000</td>\n",
              "      <td>C553264065</td>\n",
              "      <td>0.00000</td>\n",
              "      <td>0.00000</td>\n",
              "    </tr>\n",
              "    <tr>\n",
              "      <th>3</th>\n",
              "      <td>CASH_OUT</td>\n",
              "      <td>0.00000</td>\n",
              "      <td>LOW</td>\n",
              "      <td>C840083671</td>\n",
              "      <td>0.00000</td>\n",
              "      <td>0.00000</td>\n",
              "      <td>C38997010</td>\n",
              "      <td>0.00000</td>\n",
              "      <td>0.00000</td>\n",
              "    </tr>\n",
              "    <tr>\n",
              "      <th>4</th>\n",
              "      <td>PAYMENT</td>\n",
              "      <td>0.00001</td>\n",
              "      <td>LOW</td>\n",
              "      <td>C2048537720</td>\n",
              "      <td>0.00001</td>\n",
              "      <td>0.00000</td>\n",
              "      <td>M1230701703</td>\n",
              "      <td>0.00000</td>\n",
              "      <td>0.00000</td>\n",
              "    </tr>\n",
              "  </tbody>\n",
              "</table>\n",
              "</div>\n",
              "      <button class=\"colab-df-convert\" onclick=\"convertToInteractive('df-8fbcc973-6f17-4e98-a6da-f0d3387e2d62')\"\n",
              "              title=\"Convert this dataframe to an interactive table.\"\n",
              "              style=\"display:none;\">\n",
              "        \n",
              "  <svg xmlns=\"http://www.w3.org/2000/svg\" height=\"24px\"viewBox=\"0 0 24 24\"\n",
              "       width=\"24px\">\n",
              "    <path d=\"M0 0h24v24H0V0z\" fill=\"none\"/>\n",
              "    <path d=\"M18.56 5.44l.94 2.06.94-2.06 2.06-.94-2.06-.94-.94-2.06-.94 2.06-2.06.94zm-11 1L8.5 8.5l.94-2.06 2.06-.94-2.06-.94L8.5 2.5l-.94 2.06-2.06.94zm10 10l.94 2.06.94-2.06 2.06-.94-2.06-.94-.94-2.06-.94 2.06-2.06.94z\"/><path d=\"M17.41 7.96l-1.37-1.37c-.4-.4-.92-.59-1.43-.59-.52 0-1.04.2-1.43.59L10.3 9.45l-7.72 7.72c-.78.78-.78 2.05 0 2.83L4 21.41c.39.39.9.59 1.41.59.51 0 1.02-.2 1.41-.59l7.78-7.78 2.81-2.81c.8-.78.8-2.07 0-2.86zM5.41 20L4 18.59l7.72-7.72 1.47 1.35L5.41 20z\"/>\n",
              "  </svg>\n",
              "      </button>\n",
              "      \n",
              "  <style>\n",
              "    .colab-df-container {\n",
              "      display:flex;\n",
              "      flex-wrap:wrap;\n",
              "      gap: 12px;\n",
              "    }\n",
              "\n",
              "    .colab-df-convert {\n",
              "      background-color: #E8F0FE;\n",
              "      border: none;\n",
              "      border-radius: 50%;\n",
              "      cursor: pointer;\n",
              "      display: none;\n",
              "      fill: #1967D2;\n",
              "      height: 32px;\n",
              "      padding: 0 0 0 0;\n",
              "      width: 32px;\n",
              "    }\n",
              "\n",
              "    .colab-df-convert:hover {\n",
              "      background-color: #E2EBFA;\n",
              "      box-shadow: 0px 1px 2px rgba(60, 64, 67, 0.3), 0px 1px 3px 1px rgba(60, 64, 67, 0.15);\n",
              "      fill: #174EA6;\n",
              "    }\n",
              "\n",
              "    [theme=dark] .colab-df-convert {\n",
              "      background-color: #3B4455;\n",
              "      fill: #D2E3FC;\n",
              "    }\n",
              "\n",
              "    [theme=dark] .colab-df-convert:hover {\n",
              "      background-color: #434B5C;\n",
              "      box-shadow: 0px 1px 3px 1px rgba(0, 0, 0, 0.15);\n",
              "      filter: drop-shadow(0px 1px 2px rgba(0, 0, 0, 0.3));\n",
              "      fill: #FFFFFF;\n",
              "    }\n",
              "  </style>\n",
              "\n",
              "      <script>\n",
              "        const buttonEl =\n",
              "          document.querySelector('#df-8fbcc973-6f17-4e98-a6da-f0d3387e2d62 button.colab-df-convert');\n",
              "        buttonEl.style.display =\n",
              "          google.colab.kernel.accessAllowed ? 'block' : 'none';\n",
              "\n",
              "        async function convertToInteractive(key) {\n",
              "          const element = document.querySelector('#df-8fbcc973-6f17-4e98-a6da-f0d3387e2d62');\n",
              "          const dataTable =\n",
              "            await google.colab.kernel.invokeFunction('convertToInteractive',\n",
              "                                                     [key], {});\n",
              "          if (!dataTable) return;\n",
              "\n",
              "          const docLinkHtml = 'Like what you see? Visit the ' +\n",
              "            '<a target=\"_blank\" href=https://colab.research.google.com/notebooks/data_table.ipynb>data table notebook</a>'\n",
              "            + ' to learn more about interactive tables.';\n",
              "          element.innerHTML = '';\n",
              "          dataTable['output_type'] = 'display_data';\n",
              "          await google.colab.output.renderOutput(dataTable, element);\n",
              "          const docLink = document.createElement('div');\n",
              "          docLink.innerHTML = docLinkHtml;\n",
              "          element.appendChild(docLink);\n",
              "        }\n",
              "      </script>\n",
              "    </div>\n",
              "  </div>\n",
              "  "
            ]
          },
          "metadata": {},
          "execution_count": 22
        }
      ]
    },
    {
      "cell_type": "markdown",
      "source": [
        "### Train Test Split"
      ],
      "metadata": {
        "id": "zlepGFPzr43j"
      }
    },
    {
      "cell_type": "code",
      "source": [
        "X_train,X_test,y_train,y_test = train_test_split(X,Y,\n",
        "                                                 test_size = 0.3,\n",
        "                                                 stratify = Y,\n",
        "                                                 random_state = 10)"
      ],
      "metadata": {
        "id": "d7QORcpYr7i4"
      },
      "execution_count": null,
      "outputs": []
    },
    {
      "cell_type": "markdown",
      "source": [
        "## Lidando com as Features Categoricas utilizando o Target Encoder:"
      ],
      "metadata": {
        "id": "-USS0FbsEaQ5"
      }
    },
    {
      "cell_type": "code",
      "source": [
        "!pip install category_encoders\n",
        "from category_encoders.target_encoder import TargetEncoder"
      ],
      "metadata": {
        "colab": {
          "base_uri": "https://localhost:8080/"
        },
        "id": "yZhZ-OhFBvsM",
        "outputId": "a24a27ba-5114-4efd-ddcc-624f5aa83f66"
      },
      "execution_count": null,
      "outputs": [
        {
          "output_type": "stream",
          "name": "stdout",
          "text": [
            "Looking in indexes: https://pypi.org/simple, https://us-python.pkg.dev/colab-wheels/public/simple/\n",
            "Requirement already satisfied: category_encoders in /usr/local/lib/python3.7/dist-packages (2.5.0)\n",
            "Requirement already satisfied: pandas>=1.0.5 in /usr/local/lib/python3.7/dist-packages (from category_encoders) (1.3.5)\n",
            "Requirement already satisfied: statsmodels>=0.9.0 in /usr/local/lib/python3.7/dist-packages (from category_encoders) (0.10.2)\n",
            "Requirement already satisfied: scipy>=1.0.0 in /usr/local/lib/python3.7/dist-packages (from category_encoders) (1.7.3)\n",
            "Requirement already satisfied: patsy>=0.5.1 in /usr/local/lib/python3.7/dist-packages (from category_encoders) (0.5.2)\n",
            "Requirement already satisfied: numpy>=1.14.0 in /usr/local/lib/python3.7/dist-packages (from category_encoders) (1.21.6)\n",
            "Requirement already satisfied: scikit-learn>=0.20.0 in /usr/local/lib/python3.7/dist-packages (from category_encoders) (1.0.2)\n",
            "Requirement already satisfied: python-dateutil>=2.7.3 in /usr/local/lib/python3.7/dist-packages (from pandas>=1.0.5->category_encoders) (2.8.2)\n",
            "Requirement already satisfied: pytz>=2017.3 in /usr/local/lib/python3.7/dist-packages (from pandas>=1.0.5->category_encoders) (2022.1)\n",
            "Requirement already satisfied: six in /usr/local/lib/python3.7/dist-packages (from patsy>=0.5.1->category_encoders) (1.15.0)\n",
            "Requirement already satisfied: threadpoolctl>=2.0.0 in /usr/local/lib/python3.7/dist-packages (from scikit-learn>=0.20.0->category_encoders) (3.1.0)\n",
            "Requirement already satisfied: joblib>=0.11 in /usr/local/lib/python3.7/dist-packages (from scikit-learn>=0.20.0->category_encoders) (1.1.0)\n"
          ]
        }
      ]
    },
    {
      "cell_type": "code",
      "source": [
        "TE = TargetEncoder()\n",
        "cat_vars = ['type','transfer_amount_category','nameOrig','nameDest']\n",
        "#Fit Transform no Treino\n",
        "X_train[cat_vars] = TE.fit_transform(X_train[cat_vars],y_train)"
      ],
      "metadata": {
        "id": "zIQLKGCSFCet"
      },
      "execution_count": null,
      "outputs": []
    },
    {
      "cell_type": "code",
      "source": [
        "X_train.head()"
      ],
      "metadata": {
        "colab": {
          "base_uri": "https://localhost:8080/",
          "height": 206
        },
        "id": "HJy6J4Rc1P-x",
        "outputId": "b8958b64-001d-4a9c-f156-7e98b3c362f2"
      },
      "execution_count": null,
      "outputs": [
        {
          "output_type": "execute_result",
          "data": {
            "text/plain": [
              "           type  amount_norm  transfer_amount_category  nameOrig  \\\n",
              "3035847 0.00000      0.00000                   0.00021   0.00129   \n",
              "1837871 0.00000      0.00001                   0.00021   0.00129   \n",
              "1032956 0.00000      0.00009                   0.00090   0.00129   \n",
              "1117320 0.00183      0.00012                   0.00090   0.00129   \n",
              "4191999 0.00000      0.00001                   0.00067   0.00129   \n",
              "\n",
              "         oldbalanceOrg_norm  newbalanceOrig_norm  nameDest  \\\n",
              "3035847             0.00000              0.00000   0.00129   \n",
              "1837871             0.00000              0.00000   0.00129   \n",
              "1032956             0.00107              0.00107   0.00000   \n",
              "1117320             0.00003              0.00001   0.00000   \n",
              "4191999             0.00000              0.00000   0.00129   \n",
              "\n",
              "         oldbalanceDest_norm  newbalanceDest_norm  \n",
              "3035847              0.00000              0.00000  \n",
              "1837871              0.00000              0.00000  \n",
              "1032956              0.00004              0.00000  \n",
              "1117320              0.00027              0.00026  \n",
              "4191999              0.00000              0.00000  "
            ],
            "text/html": [
              "\n",
              "  <div id=\"df-065d2f50-6189-4b30-82f2-0d554582bb0c\">\n",
              "    <div class=\"colab-df-container\">\n",
              "      <div>\n",
              "<style scoped>\n",
              "    .dataframe tbody tr th:only-of-type {\n",
              "        vertical-align: middle;\n",
              "    }\n",
              "\n",
              "    .dataframe tbody tr th {\n",
              "        vertical-align: top;\n",
              "    }\n",
              "\n",
              "    .dataframe thead th {\n",
              "        text-align: right;\n",
              "    }\n",
              "</style>\n",
              "<table border=\"1\" class=\"dataframe\">\n",
              "  <thead>\n",
              "    <tr style=\"text-align: right;\">\n",
              "      <th></th>\n",
              "      <th>type</th>\n",
              "      <th>amount_norm</th>\n",
              "      <th>transfer_amount_category</th>\n",
              "      <th>nameOrig</th>\n",
              "      <th>oldbalanceOrg_norm</th>\n",
              "      <th>newbalanceOrig_norm</th>\n",
              "      <th>nameDest</th>\n",
              "      <th>oldbalanceDest_norm</th>\n",
              "      <th>newbalanceDest_norm</th>\n",
              "    </tr>\n",
              "  </thead>\n",
              "  <tbody>\n",
              "    <tr>\n",
              "      <th>3035847</th>\n",
              "      <td>0.00000</td>\n",
              "      <td>0.00000</td>\n",
              "      <td>0.00021</td>\n",
              "      <td>0.00129</td>\n",
              "      <td>0.00000</td>\n",
              "      <td>0.00000</td>\n",
              "      <td>0.00129</td>\n",
              "      <td>0.00000</td>\n",
              "      <td>0.00000</td>\n",
              "    </tr>\n",
              "    <tr>\n",
              "      <th>1837871</th>\n",
              "      <td>0.00000</td>\n",
              "      <td>0.00001</td>\n",
              "      <td>0.00021</td>\n",
              "      <td>0.00129</td>\n",
              "      <td>0.00000</td>\n",
              "      <td>0.00000</td>\n",
              "      <td>0.00129</td>\n",
              "      <td>0.00000</td>\n",
              "      <td>0.00000</td>\n",
              "    </tr>\n",
              "    <tr>\n",
              "      <th>1032956</th>\n",
              "      <td>0.00000</td>\n",
              "      <td>0.00009</td>\n",
              "      <td>0.00090</td>\n",
              "      <td>0.00129</td>\n",
              "      <td>0.00107</td>\n",
              "      <td>0.00107</td>\n",
              "      <td>0.00000</td>\n",
              "      <td>0.00004</td>\n",
              "      <td>0.00000</td>\n",
              "    </tr>\n",
              "    <tr>\n",
              "      <th>1117320</th>\n",
              "      <td>0.00183</td>\n",
              "      <td>0.00012</td>\n",
              "      <td>0.00090</td>\n",
              "      <td>0.00129</td>\n",
              "      <td>0.00003</td>\n",
              "      <td>0.00001</td>\n",
              "      <td>0.00000</td>\n",
              "      <td>0.00027</td>\n",
              "      <td>0.00026</td>\n",
              "    </tr>\n",
              "    <tr>\n",
              "      <th>4191999</th>\n",
              "      <td>0.00000</td>\n",
              "      <td>0.00001</td>\n",
              "      <td>0.00067</td>\n",
              "      <td>0.00129</td>\n",
              "      <td>0.00000</td>\n",
              "      <td>0.00000</td>\n",
              "      <td>0.00129</td>\n",
              "      <td>0.00000</td>\n",
              "      <td>0.00000</td>\n",
              "    </tr>\n",
              "  </tbody>\n",
              "</table>\n",
              "</div>\n",
              "      <button class=\"colab-df-convert\" onclick=\"convertToInteractive('df-065d2f50-6189-4b30-82f2-0d554582bb0c')\"\n",
              "              title=\"Convert this dataframe to an interactive table.\"\n",
              "              style=\"display:none;\">\n",
              "        \n",
              "  <svg xmlns=\"http://www.w3.org/2000/svg\" height=\"24px\"viewBox=\"0 0 24 24\"\n",
              "       width=\"24px\">\n",
              "    <path d=\"M0 0h24v24H0V0z\" fill=\"none\"/>\n",
              "    <path d=\"M18.56 5.44l.94 2.06.94-2.06 2.06-.94-2.06-.94-.94-2.06-.94 2.06-2.06.94zm-11 1L8.5 8.5l.94-2.06 2.06-.94-2.06-.94L8.5 2.5l-.94 2.06-2.06.94zm10 10l.94 2.06.94-2.06 2.06-.94-2.06-.94-.94-2.06-.94 2.06-2.06.94z\"/><path d=\"M17.41 7.96l-1.37-1.37c-.4-.4-.92-.59-1.43-.59-.52 0-1.04.2-1.43.59L10.3 9.45l-7.72 7.72c-.78.78-.78 2.05 0 2.83L4 21.41c.39.39.9.59 1.41.59.51 0 1.02-.2 1.41-.59l7.78-7.78 2.81-2.81c.8-.78.8-2.07 0-2.86zM5.41 20L4 18.59l7.72-7.72 1.47 1.35L5.41 20z\"/>\n",
              "  </svg>\n",
              "      </button>\n",
              "      \n",
              "  <style>\n",
              "    .colab-df-container {\n",
              "      display:flex;\n",
              "      flex-wrap:wrap;\n",
              "      gap: 12px;\n",
              "    }\n",
              "\n",
              "    .colab-df-convert {\n",
              "      background-color: #E8F0FE;\n",
              "      border: none;\n",
              "      border-radius: 50%;\n",
              "      cursor: pointer;\n",
              "      display: none;\n",
              "      fill: #1967D2;\n",
              "      height: 32px;\n",
              "      padding: 0 0 0 0;\n",
              "      width: 32px;\n",
              "    }\n",
              "\n",
              "    .colab-df-convert:hover {\n",
              "      background-color: #E2EBFA;\n",
              "      box-shadow: 0px 1px 2px rgba(60, 64, 67, 0.3), 0px 1px 3px 1px rgba(60, 64, 67, 0.15);\n",
              "      fill: #174EA6;\n",
              "    }\n",
              "\n",
              "    [theme=dark] .colab-df-convert {\n",
              "      background-color: #3B4455;\n",
              "      fill: #D2E3FC;\n",
              "    }\n",
              "\n",
              "    [theme=dark] .colab-df-convert:hover {\n",
              "      background-color: #434B5C;\n",
              "      box-shadow: 0px 1px 3px 1px rgba(0, 0, 0, 0.15);\n",
              "      filter: drop-shadow(0px 1px 2px rgba(0, 0, 0, 0.3));\n",
              "      fill: #FFFFFF;\n",
              "    }\n",
              "  </style>\n",
              "\n",
              "      <script>\n",
              "        const buttonEl =\n",
              "          document.querySelector('#df-065d2f50-6189-4b30-82f2-0d554582bb0c button.colab-df-convert');\n",
              "        buttonEl.style.display =\n",
              "          google.colab.kernel.accessAllowed ? 'block' : 'none';\n",
              "\n",
              "        async function convertToInteractive(key) {\n",
              "          const element = document.querySelector('#df-065d2f50-6189-4b30-82f2-0d554582bb0c');\n",
              "          const dataTable =\n",
              "            await google.colab.kernel.invokeFunction('convertToInteractive',\n",
              "                                                     [key], {});\n",
              "          if (!dataTable) return;\n",
              "\n",
              "          const docLinkHtml = 'Like what you see? Visit the ' +\n",
              "            '<a target=\"_blank\" href=https://colab.research.google.com/notebooks/data_table.ipynb>data table notebook</a>'\n",
              "            + ' to learn more about interactive tables.';\n",
              "          element.innerHTML = '';\n",
              "          dataTable['output_type'] = 'display_data';\n",
              "          await google.colab.output.renderOutput(dataTable, element);\n",
              "          const docLink = document.createElement('div');\n",
              "          docLink.innerHTML = docLinkHtml;\n",
              "          element.appendChild(docLink);\n",
              "        }\n",
              "      </script>\n",
              "    </div>\n",
              "  </div>\n",
              "  "
            ]
          },
          "metadata": {},
          "execution_count": 26
        }
      ]
    },
    {
      "cell_type": "code",
      "source": [
        "X_test[cat_vars] = TE.transform(X_test[cat_vars]) #transform no teste"
      ],
      "metadata": {
        "id": "hmesY3Sg12GT"
      },
      "execution_count": null,
      "outputs": []
    },
    {
      "cell_type": "code",
      "source": [
        "X_test.head()"
      ],
      "metadata": {
        "colab": {
          "base_uri": "https://localhost:8080/",
          "height": 206
        },
        "id": "pV5v8vVryNQ-",
        "outputId": "9fc44d6e-2791-4e71-ebe4-854939f624f9"
      },
      "execution_count": null,
      "outputs": [
        {
          "output_type": "execute_result",
          "data": {
            "text/plain": [
              "           type  amount_norm  transfer_amount_category  nameOrig  \\\n",
              "2843011 0.00183      0.00045                   0.00328   0.00129   \n",
              "6267838 0.00183      0.00007                   0.00090   0.00129   \n",
              "3037018 0.00183      0.00022                   0.00328   0.00129   \n",
              "281323  0.00183      0.00020                   0.00328   0.00129   \n",
              "3373191 0.00000      0.00000                   0.00021   0.00129   \n",
              "\n",
              "         oldbalanceOrg_norm  newbalanceOrig_norm  nameDest  \\\n",
              "2843011             0.00000              0.00000   0.00000   \n",
              "6267838             0.00000              0.00000   0.00000   \n",
              "3037018             0.00003              0.00000   0.00000   \n",
              "281323              0.00002              0.00000   0.00000   \n",
              "3373191             0.00000              0.00000   0.00129   \n",
              "\n",
              "         oldbalanceDest_norm  newbalanceDest_norm  \n",
              "2843011              0.00004              0.00011  \n",
              "6267838              0.00008              0.00009  \n",
              "3037018              0.00008              0.00011  \n",
              "281323               0.00000              0.00003  \n",
              "3373191              0.00000              0.00000  "
            ],
            "text/html": [
              "\n",
              "  <div id=\"df-46bfaffc-419c-4684-abdb-c98014524f62\">\n",
              "    <div class=\"colab-df-container\">\n",
              "      <div>\n",
              "<style scoped>\n",
              "    .dataframe tbody tr th:only-of-type {\n",
              "        vertical-align: middle;\n",
              "    }\n",
              "\n",
              "    .dataframe tbody tr th {\n",
              "        vertical-align: top;\n",
              "    }\n",
              "\n",
              "    .dataframe thead th {\n",
              "        text-align: right;\n",
              "    }\n",
              "</style>\n",
              "<table border=\"1\" class=\"dataframe\">\n",
              "  <thead>\n",
              "    <tr style=\"text-align: right;\">\n",
              "      <th></th>\n",
              "      <th>type</th>\n",
              "      <th>amount_norm</th>\n",
              "      <th>transfer_amount_category</th>\n",
              "      <th>nameOrig</th>\n",
              "      <th>oldbalanceOrg_norm</th>\n",
              "      <th>newbalanceOrig_norm</th>\n",
              "      <th>nameDest</th>\n",
              "      <th>oldbalanceDest_norm</th>\n",
              "      <th>newbalanceDest_norm</th>\n",
              "    </tr>\n",
              "  </thead>\n",
              "  <tbody>\n",
              "    <tr>\n",
              "      <th>2843011</th>\n",
              "      <td>0.00183</td>\n",
              "      <td>0.00045</td>\n",
              "      <td>0.00328</td>\n",
              "      <td>0.00129</td>\n",
              "      <td>0.00000</td>\n",
              "      <td>0.00000</td>\n",
              "      <td>0.00000</td>\n",
              "      <td>0.00004</td>\n",
              "      <td>0.00011</td>\n",
              "    </tr>\n",
              "    <tr>\n",
              "      <th>6267838</th>\n",
              "      <td>0.00183</td>\n",
              "      <td>0.00007</td>\n",
              "      <td>0.00090</td>\n",
              "      <td>0.00129</td>\n",
              "      <td>0.00000</td>\n",
              "      <td>0.00000</td>\n",
              "      <td>0.00000</td>\n",
              "      <td>0.00008</td>\n",
              "      <td>0.00009</td>\n",
              "    </tr>\n",
              "    <tr>\n",
              "      <th>3037018</th>\n",
              "      <td>0.00183</td>\n",
              "      <td>0.00022</td>\n",
              "      <td>0.00328</td>\n",
              "      <td>0.00129</td>\n",
              "      <td>0.00003</td>\n",
              "      <td>0.00000</td>\n",
              "      <td>0.00000</td>\n",
              "      <td>0.00008</td>\n",
              "      <td>0.00011</td>\n",
              "    </tr>\n",
              "    <tr>\n",
              "      <th>281323</th>\n",
              "      <td>0.00183</td>\n",
              "      <td>0.00020</td>\n",
              "      <td>0.00328</td>\n",
              "      <td>0.00129</td>\n",
              "      <td>0.00002</td>\n",
              "      <td>0.00000</td>\n",
              "      <td>0.00000</td>\n",
              "      <td>0.00000</td>\n",
              "      <td>0.00003</td>\n",
              "    </tr>\n",
              "    <tr>\n",
              "      <th>3373191</th>\n",
              "      <td>0.00000</td>\n",
              "      <td>0.00000</td>\n",
              "      <td>0.00021</td>\n",
              "      <td>0.00129</td>\n",
              "      <td>0.00000</td>\n",
              "      <td>0.00000</td>\n",
              "      <td>0.00129</td>\n",
              "      <td>0.00000</td>\n",
              "      <td>0.00000</td>\n",
              "    </tr>\n",
              "  </tbody>\n",
              "</table>\n",
              "</div>\n",
              "      <button class=\"colab-df-convert\" onclick=\"convertToInteractive('df-46bfaffc-419c-4684-abdb-c98014524f62')\"\n",
              "              title=\"Convert this dataframe to an interactive table.\"\n",
              "              style=\"display:none;\">\n",
              "        \n",
              "  <svg xmlns=\"http://www.w3.org/2000/svg\" height=\"24px\"viewBox=\"0 0 24 24\"\n",
              "       width=\"24px\">\n",
              "    <path d=\"M0 0h24v24H0V0z\" fill=\"none\"/>\n",
              "    <path d=\"M18.56 5.44l.94 2.06.94-2.06 2.06-.94-2.06-.94-.94-2.06-.94 2.06-2.06.94zm-11 1L8.5 8.5l.94-2.06 2.06-.94-2.06-.94L8.5 2.5l-.94 2.06-2.06.94zm10 10l.94 2.06.94-2.06 2.06-.94-2.06-.94-.94-2.06-.94 2.06-2.06.94z\"/><path d=\"M17.41 7.96l-1.37-1.37c-.4-.4-.92-.59-1.43-.59-.52 0-1.04.2-1.43.59L10.3 9.45l-7.72 7.72c-.78.78-.78 2.05 0 2.83L4 21.41c.39.39.9.59 1.41.59.51 0 1.02-.2 1.41-.59l7.78-7.78 2.81-2.81c.8-.78.8-2.07 0-2.86zM5.41 20L4 18.59l7.72-7.72 1.47 1.35L5.41 20z\"/>\n",
              "  </svg>\n",
              "      </button>\n",
              "      \n",
              "  <style>\n",
              "    .colab-df-container {\n",
              "      display:flex;\n",
              "      flex-wrap:wrap;\n",
              "      gap: 12px;\n",
              "    }\n",
              "\n",
              "    .colab-df-convert {\n",
              "      background-color: #E8F0FE;\n",
              "      border: none;\n",
              "      border-radius: 50%;\n",
              "      cursor: pointer;\n",
              "      display: none;\n",
              "      fill: #1967D2;\n",
              "      height: 32px;\n",
              "      padding: 0 0 0 0;\n",
              "      width: 32px;\n",
              "    }\n",
              "\n",
              "    .colab-df-convert:hover {\n",
              "      background-color: #E2EBFA;\n",
              "      box-shadow: 0px 1px 2px rgba(60, 64, 67, 0.3), 0px 1px 3px 1px rgba(60, 64, 67, 0.15);\n",
              "      fill: #174EA6;\n",
              "    }\n",
              "\n",
              "    [theme=dark] .colab-df-convert {\n",
              "      background-color: #3B4455;\n",
              "      fill: #D2E3FC;\n",
              "    }\n",
              "\n",
              "    [theme=dark] .colab-df-convert:hover {\n",
              "      background-color: #434B5C;\n",
              "      box-shadow: 0px 1px 3px 1px rgba(0, 0, 0, 0.15);\n",
              "      filter: drop-shadow(0px 1px 2px rgba(0, 0, 0, 0.3));\n",
              "      fill: #FFFFFF;\n",
              "    }\n",
              "  </style>\n",
              "\n",
              "      <script>\n",
              "        const buttonEl =\n",
              "          document.querySelector('#df-46bfaffc-419c-4684-abdb-c98014524f62 button.colab-df-convert');\n",
              "        buttonEl.style.display =\n",
              "          google.colab.kernel.accessAllowed ? 'block' : 'none';\n",
              "\n",
              "        async function convertToInteractive(key) {\n",
              "          const element = document.querySelector('#df-46bfaffc-419c-4684-abdb-c98014524f62');\n",
              "          const dataTable =\n",
              "            await google.colab.kernel.invokeFunction('convertToInteractive',\n",
              "                                                     [key], {});\n",
              "          if (!dataTable) return;\n",
              "\n",
              "          const docLinkHtml = 'Like what you see? Visit the ' +\n",
              "            '<a target=\"_blank\" href=https://colab.research.google.com/notebooks/data_table.ipynb>data table notebook</a>'\n",
              "            + ' to learn more about interactive tables.';\n",
              "          element.innerHTML = '';\n",
              "          dataTable['output_type'] = 'display_data';\n",
              "          await google.colab.output.renderOutput(dataTable, element);\n",
              "          const docLink = document.createElement('div');\n",
              "          docLink.innerHTML = docLinkHtml;\n",
              "          element.appendChild(docLink);\n",
              "        }\n",
              "      </script>\n",
              "    </div>\n",
              "  </div>\n",
              "  "
            ]
          },
          "metadata": {},
          "execution_count": 28
        }
      ]
    },
    {
      "cell_type": "code",
      "source": [
        "X_train.dtypes"
      ],
      "metadata": {
        "colab": {
          "base_uri": "https://localhost:8080/"
        },
        "id": "PKyJ-paSyA4b",
        "outputId": "e1a53bc2-9fcb-4494-cc02-0822b542117e"
      },
      "execution_count": null,
      "outputs": [
        {
          "output_type": "execute_result",
          "data": {
            "text/plain": [
              "type                        float64\n",
              "amount_norm                 float64\n",
              "transfer_amount_category    float64\n",
              "nameOrig                    float64\n",
              "oldbalanceOrg_norm          float64\n",
              "newbalanceOrig_norm         float64\n",
              "nameDest                    float64\n",
              "oldbalanceDest_norm         float64\n",
              "newbalanceDest_norm         float64\n",
              "dtype: object"
            ]
          },
          "metadata": {},
          "execution_count": 29
        }
      ]
    },
    {
      "cell_type": "code",
      "source": [
        "X_train = X_train.astype(np.float64)\n",
        "X_test = X_test.astype(np.float64)"
      ],
      "metadata": {
        "id": "5JQwQivUx3dv"
      },
      "execution_count": null,
      "outputs": []
    },
    {
      "cell_type": "markdown",
      "source": [
        "## Treinando Regressao Logistica"
      ],
      "metadata": {
        "id": "HagozHx9xoU0"
      }
    },
    {
      "cell_type": "code",
      "source": [
        "# Criando o modelo Regressão Logistica em CPU\n",
        "model_reglog = LogisticRegression()   \n",
        "  \n",
        "# Treinamento do modelo Regressão Logistica em CPU\n",
        "model_reglog.fit(X_train, y_train) "
      ],
      "metadata": {
        "colab": {
          "base_uri": "https://localhost:8080/"
        },
        "id": "4yIIXmTKxnSB",
        "outputId": "44f8a5e5-f355-49cd-c53e-7a66ef9faf4a"
      },
      "execution_count": null,
      "outputs": [
        {
          "output_type": "execute_result",
          "data": {
            "text/plain": [
              "LogisticRegression()"
            ]
          },
          "metadata": {},
          "execution_count": 31
        }
      ]
    },
    {
      "cell_type": "code",
      "source": [
        "y_pred_reglog = model_reglog.predict(X_test)"
      ],
      "metadata": {
        "id": "Uz7016UC4ibJ"
      },
      "execution_count": null,
      "outputs": []
    },
    {
      "cell_type": "code",
      "source": [
        "# Calculando as métricas do modelo (Acurácia, Matriz de confusão)\n",
        "print(\"Acurácia: \", accuracy_score(y_test, y_pred_reglog))\n",
        "print(\"Precisao: \", precision_score(y_test, y_pred_reglog))\n",
        "print(\"Recall: \", recall_score(y_test, y_pred_reglog))\n",
        "print(\"F1 Score: \", f1_score(y_test, y_pred_reglog))\n",
        "print(\"Matriz de confusão:\\n \", confusion_matrix(y_test, y_pred_reglog))"
      ],
      "metadata": {
        "colab": {
          "base_uri": "https://localhost:8080/"
        },
        "id": "WrzcgXP94qjL",
        "outputId": "1b76c7bc-fc73-426b-9dc9-768d8d83616c"
      },
      "execution_count": null,
      "outputs": [
        {
          "output_type": "stream",
          "name": "stdout",
          "text": [
            "Acurácia:  0.9985278601163252\n",
            "Precisao:  0.0028735632183908046\n",
            "Recall:  0.00040584415584415587\n",
            "F1 Score:  0.0007112375533428165\n",
            "Matriz de confusão:\n",
            "  [[1905975     347]\n",
            " [   2463       1]]\n"
          ]
        }
      ]
    },
    {
      "cell_type": "code",
      "source": [
        "cm = confusion_matrix(y_test, y_pred_reglog)\n",
        "disp = ConfusionMatrixDisplay(confusion_matrix = cm, display_labels=['não fraude', 'fraude'])\n",
        "ax = disp.plot(values_format='d') "
      ],
      "metadata": {
        "colab": {
          "base_uri": "https://localhost:8080/",
          "height": 290
        },
        "id": "9yM7K_f-7Td7",
        "outputId": "0fd80edc-bce1-4c53-82d4-8882d75c633b"
      },
      "execution_count": null,
      "outputs": [
        {
          "output_type": "display_data",
          "data": {
            "text/plain": [
              "<Figure size 432x288 with 2 Axes>"
            ],
            "image/png": "[encoded data removed]"
          },
          "metadata": {
            "needs_background": "light"
          }
        }
      ]
    },
    {
      "cell_type": "markdown",
      "source": [
        "## Treinando Random Forest"
      ],
      "metadata": {
        "id": "YKGCxpqz51id"
      }
    },
    {
      "cell_type": "code",
      "source": [
        "# Criando o modelo Random Forest em CPU\n",
        "model_rf = RandomForestClassifier(n_estimators = 5, random_state = 10)   \n",
        "  \n",
        "# Treinamento do modelo Random Forest em CPU\n",
        "model_rf.fit(X_train, y_train) "
      ],
      "metadata": {
        "colab": {
          "base_uri": "https://localhost:8080/"
        },
        "id": "uLua77mq56UD",
        "outputId": "bb2fd9c5-9631-4963-f167-0a0312bd3a4f"
      },
      "execution_count": null,
      "outputs": [
        {
          "output_type": "execute_result",
          "data": {
            "text/plain": [
              "RandomForestClassifier(n_estimators=5, random_state=10)"
            ]
          },
          "metadata": {},
          "execution_count": 35
        }
      ]
    },
    {
      "cell_type": "code",
      "source": [
        "# Predições\n",
        "y_pred_rf = model_rf.predict(X_test) "
      ],
      "metadata": {
        "id": "2sS1zYXN6iSE"
      },
      "execution_count": null,
      "outputs": []
    },
    {
      "cell_type": "code",
      "source": [
        "# Calculando as métricas do modelo (Acurácia, Matriz de confusão)\n",
        "print(\"Acurácia: \", accuracy_score(y_test, y_pred_rf))\n",
        "print(\"Precisao: \", precision_score(y_test, y_pred_rf))\n",
        "print(\"Recall: \", recall_score(y_test, y_pred_rf))\n",
        "print(\"F1 Score: \", f1_score(y_test, y_pred_rf))\n",
        "print(\"Matriz de confusão:\\n \", confusion_matrix(y_test, y_pred_rf))"
      ],
      "metadata": {
        "colab": {
          "base_uri": "https://localhost:8080/"
        },
        "id": "bgnxpbwL6nFY",
        "outputId": "c2d00b9f-8544-45e9-8027-1167dcf0a7ab"
      },
      "execution_count": null,
      "outputs": [
        {
          "output_type": "stream",
          "name": "stdout",
          "text": [
            "Acurácia:  0.99928383799965\n",
            "Precisao:  0.9183829138062548\n",
            "Recall:  0.48863636363636365\n",
            "F1 Score:  0.6378807947019868\n",
            "Matriz de confusão:\n",
            "  [[1906215     107]\n",
            " [   1260    1204]]\n"
          ]
        }
      ]
    },
    {
      "cell_type": "code",
      "source": [
        "cm = confusion_matrix(y_test, y_pred_rf)\n",
        "disp = ConfusionMatrixDisplay(confusion_matrix = cm, display_labels=['não fraude', 'fraude'])\n",
        "ax = disp.plot(values_format='d') "
      ],
      "metadata": {
        "colab": {
          "base_uri": "https://localhost:8080/",
          "height": 290
        },
        "id": "Ld4exMnM7jzh",
        "outputId": "573c1002-89aa-4e0b-c5ac-0468a9124de2"
      },
      "execution_count": null,
      "outputs": [
        {
          "output_type": "display_data",
          "data": {
            "text/plain": [
              "<Figure size 432x288 with 2 Axes>"
            ],
            "image/png": "[encoded data removed]"
          },
          "metadata": {
            "needs_background": "light"
          }
        }
      ]
    },
    {
      "cell_type": "markdown",
      "source": [
        "## Treinando XGBoost"
      ],
      "metadata": {
        "id": "WrjlFPsz6__X"
      }
    },
    {
      "cell_type": "code",
      "source": [
        "\n",
        "# Parametrização do XGBoost\n",
        "params = {'learning_rate': 0.1,\n",
        "          'colsample_bytree' : 0.3,\n",
        "          'max_depth': 5,\n",
        "          'objective': 'binary:logistic',\n",
        "          'alpha' : 10,\n",
        "          'n_estimators': 100}\n",
        "\n",
        "# Treinamento do modelo XGBoost\n",
        "model_xgb = XGBClassifier(**params)\n",
        "model_xgb.fit(X_train, y_train, eval_set=[(X_train, y_train), (X_test, y_test)],\n",
        "                      eval_metric='auc', verbose=False)"
      ],
      "metadata": {
        "colab": {
          "base_uri": "https://localhost:8080/"
        },
        "id": "snjOZYUL7wXd",
        "outputId": "5e88e49d-747f-484b-ee12-6cc1efec8188"
      },
      "execution_count": null,
      "outputs": [
        {
          "output_type": "stream",
          "name": "stdout",
          "text": [
            "[23:07:59] WARNING: /workspace/src/learner.cc:686: Tree method is automatically selected to be 'approx' for faster speed. To use old behavior (exact greedy algorithm on single machine), set tree_method to 'exact'.\n"
          ]
        },
        {
          "output_type": "execute_result",
          "data": {
            "text/plain": [
              "XGBClassifier(alpha=10, colsample_bytree=0.3, max_depth=5)"
            ]
          },
          "metadata": {},
          "execution_count": 38
        }
      ]
    },
    {
      "cell_type": "code",
      "source": [
        "# Predições\n",
        "y_pred_xgb = model_xgb.predict(X_test) "
      ],
      "metadata": {
        "id": "6_BSMUTxAzUq"
      },
      "execution_count": null,
      "outputs": []
    },
    {
      "cell_type": "code",
      "source": [
        "print(\"Acurácia: \", accuracy_score(y_test, y_pred_xgb))\n",
        "print(\"Precisao: \", precision_score(y_test, y_pred_xgb))\n",
        "print(\"Recall: \", recall_score(y_test, y_pred_xgb))\n",
        "print(\"F1 Score: \", f1_score(y_test, y_pred_xgb))\n",
        "print(\"Matriz de confusão:\\n \", confusion_matrix(y_test, y_pred_xgb))"
      ],
      "metadata": {
        "colab": {
          "base_uri": "https://localhost:8080/"
        },
        "id": "0qFvoJPmBOa6",
        "outputId": "a461d00a-e358-4cec-a706-edc865c47a97"
      },
      "execution_count": null,
      "outputs": [
        {
          "output_type": "stream",
          "name": "stdout",
          "text": [
            "Acurácia:  0.9990339409446632\n",
            "Precisao:  0.9798761609907121\n",
            "Recall:  0.25689935064935066\n",
            "F1 Score:  0.40707395498392285\n",
            "Matriz de confusão:\n",
            "  [[1906309      13]\n",
            " [   1831     633]]\n"
          ]
        }
      ]
    },
    {
      "cell_type": "code",
      "source": [
        "cm = confusion_matrix(y_test, y_pred_xgb)\n",
        "disp = ConfusionMatrixDisplay(confusion_matrix = cm, display_labels=['não fraude', 'fraude'])\n",
        "ax = disp.plot(values_format='d') "
      ],
      "metadata": {
        "colab": {
          "base_uri": "https://localhost:8080/",
          "height": 290
        },
        "id": "U_cAuHQSA-U1",
        "outputId": "d3c89174-8d53-4e22-909c-12d75c7d7b84"
      },
      "execution_count": null,
      "outputs": [
        {
          "output_type": "display_data",
          "data": {
            "text/plain": [
              "<Figure size 432x288 with 2 Axes>"
            ],
            "image/png": "[encoded data removed]"
          },
          "metadata": {
            "needs_background": "light"
          }
        }
      ]
    },
    {
      "cell_type": "markdown",
      "source": [
        "# Interpretando Resultados:"
      ],
      "metadata": {
        "id": "FtpwZBszCb3C"
      }
    },
    {
      "cell_type": "markdown",
      "source": [
        "## Acurácia:"
      ],
      "metadata": {
        "id": "Lu1Jm1-MCmgw"
      }
    },
    {
      "cell_type": "markdown",
      "source": [
        "A Acuracia é a métrica mais simples, ela representa o numero de previsões corretas do modelo. Entretanto, para dados muito desbalanceados (como é o nosso caso), ela pode dar uma falsa impressão de que nossa modelo está performando de maneira fantástica, pelo simples fato de apenas 0.12% das nossas amostras ser Fraudulenta. Se nosso modelo classificar todas as amostras como não fraudulentas, ele já atingiria uma acurácia de 99.88%"
      ],
      "metadata": {
        "id": "8WzTZO68C4HQ"
      }
    },
    {
      "cell_type": "markdown",
      "source": [
        "## Precisao"
      ],
      "metadata": {
        "id": "mOFyn4_QCoEe"
      }
    },
    {
      "cell_type": "markdown",
      "source": [
        "Essa métrica indica nosso poder de previsão de positivos. Dentre todas as observações classificadas como positiva, quais são realmente positivas? No nosso caso, prever corretamente um \"positivo\" significa identificar uma fraude. Um falso negativo pode gerar ao banco e aos seus clientes uma grande dor de cabeça com perdas de grandes quantias monetárias, enquanto um falso positivo apenas pode ocasionar uma checagem de validez da transação, mantendo a segurança do cliente. Essa é uma métrica bem importante para o problema em questão!"
      ],
      "metadata": {
        "id": "F25aKDW3DkF4"
      }
    },
    {
      "cell_type": "markdown",
      "source": [
        "## Recall"
      ],
      "metadata": {
        "id": "CliaU9-GCrDu"
      }
    },
    {
      "cell_type": "markdown",
      "source": [
        "O Recall também diz respeito ao poder de previsão de positivos. \"Dentre todas as observações que são realmente positivas, em quantas o modelo conseguiu identificar corretamente?\". Também uma métrica muito importante para este problema"
      ],
      "metadata": {
        "id": "8XoM-XvzEOyS"
      }
    },
    {
      "cell_type": "markdown",
      "source": [
        "## F1 Score"
      ],
      "metadata": {
        "id": "8d2_L3ZFCsM6"
      }
    },
    {
      "cell_type": "markdown",
      "source": [
        "Média Harmonica entre Recall e Precisao. Muito utilizada quando temos classes desbalanceadas, que é o nosso caso. Outra métrica muito importante!"
      ],
      "metadata": {
        "id": "Z5Dts3jZExxN"
      }
    },
    {
      "cell_type": "markdown",
      "source": [
        "# Comparacao de Metricas:"
      ],
      "metadata": {
        "id": "kp3pvt0IFGsM"
      }
    },
    {
      "cell_type": "markdown",
      "source": [
        "Regressao Logistica: \n",
        "\n",
        "* Acurácia:  0.9985278601163252\n",
        "* Precisao:  0.0028735632183908046\n",
        "* Recall:  0.00040584415584415587\n",
        "* F1 Score:  0.0007112375533428165\n",
        "\n",
        "Random Forest:\n",
        "\n",
        "* Acurácia:  0.99928383799965\n",
        "* Precisao:  0.9183829138062548\n",
        "* Recall:  0.48863636363636365\n",
        "* F1 Score:  0.6378807947019868\n",
        "\n",
        "XGBoost:\n",
        "\n",
        "* Acurácia:  0.9990339409446632\n",
        "* Precisao:  0.9798761609907121\n",
        "* Recall:  0.25689935064935066\n",
        "* F1 Score:  0.40707395498392285"
      ],
      "metadata": {
        "id": "zDp-nlCMFKER"
      }
    },
    {
      "cell_type": "markdown",
      "source": [
        "# Conclusão: Analisando todas as métricas e pela descrição delas acima, elegemos a Random Forest como o melhor modelo desta leva. Vale ressaltar que esses são os modelos baseline, e uma tunagem de hiperparametros pode (e será) feita posteriormente utilizando, por exemplo, o GridSearchCV, para encontrar os melhores hiperparametros para um modelo mais refinado."
      ],
      "metadata": {
        "id": "Ljomu0INFzqQ"
      }
    }
  ]
}